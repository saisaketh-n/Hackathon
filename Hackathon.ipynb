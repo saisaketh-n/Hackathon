{
  "nbformat": 4,
  "nbformat_minor": 0,
  "metadata": {
    "colab": {
      "provenance": []
    },
    "kernelspec": {
      "name": "python3",
      "display_name": "Python 3"
    },
    "language_info": {
      "name": "python"
    }
  },
  "cells": [
    {
      "cell_type": "markdown",
      "source": [
        "Import the Libraries required"
      ],
      "metadata": {
        "id": "sa27g4bEb73g"
      }
    },
    {
      "cell_type": "code",
      "execution_count": 1,
      "metadata": {
        "id": "0yZTszrJ9ouq"
      },
      "outputs": [],
      "source": [
        "import numpy as np\n",
        "import pandas as pd\n",
        "import matplotlib.pyplot as plt\n",
        "import seaborn as sns\n",
        "import sklearn\n",
        "import matplotlib\n",
        "import warnings\n",
        "warnings.filterwarnings('ignore')"
      ]
    },
    {
      "cell_type": "markdown",
      "source": [
        "Load the Dataset"
      ],
      "metadata": {
        "id": "51V4VpxgcLki"
      }
    },
    {
      "cell_type": "code",
      "source": [
        "df=pd.read_csv(\"IPL_Data.csv\")"
      ],
      "metadata": {
        "id": "GEl9NV9c9wCs"
      },
      "execution_count": 2,
      "outputs": []
    },
    {
      "cell_type": "markdown",
      "source": [
        "Understand the given Data"
      ],
      "metadata": {
        "id": "slF5LkUYcXmW"
      }
    },
    {
      "cell_type": "code",
      "source": [
        "df.head()    #head-->first five rows"
      ],
      "metadata": {
        "id": "DOeOm5b0FSum",
        "colab": {
          "base_uri": "https://localhost:8080/",
          "height": 750
        },
        "outputId": "895fa0ca-a8b5-4f47-ea1b-d6388a381572"
      },
      "execution_count": 3,
      "outputs": [
        {
          "output_type": "execute_result",
          "data": {
            "text/plain": [
              "               Name  Team                                                Url  \\\n",
              "0    Mayank Agarwal  PBKS  https://sports.ndtv.com/cricket/players/1430-m...   \n",
              "1  Liam Livingstone  PBKS  https://sports.ndtv.com/cricket/players/64363-...   \n",
              "2     Kagiso Rabada  PBKS  https://sports.ndtv.com/cricket/players/64042-...   \n",
              "3     Shahrukh Khan  PBKS  https://sports.ndtv.com/cricket/players/113433...   \n",
              "4    Shikhar Dhawan  PBKS  https://sports.ndtv.com/cricket/players/737-sh...   \n",
              "\n",
              "           Type  ValueinCR                 Full Name  \\\n",
              "0      Batsman       12.00     Mayank Anurag Agarwal   \n",
              "1  All-Rounder       11.50  Liam Stephen Livingstone   \n",
              "2       Bowler        9.25             Kagiso Rabada   \n",
              "3  All-Rounder        9.00      Masood Shahrukh Khan   \n",
              "4      Batsman        8.25            Shikhar Dhawan   \n",
              "\n",
              "                                           Born                          Age  \\\n",
              "0        February 16, 1991 Bangalore, Karnataka  31 Years, 0 Months, 28 Days   \n",
              "1  August 4, 1993 Barrow-in-Furness, Cumberland  28 Years, 7 Months, 11 Days   \n",
              "2                     May 25, 1995 Johannesburg  26 Years, 9 Months, 22 Days   \n",
              "3              May 27, 1995 Chennai, Tamil Nadu  26 Years, 9 Months, 20 Days   \n",
              "4                        December 5, 1985 Delhi  36 Years, 3 Months, 10 Days   \n",
              "\n",
              "  National Side Batting Style  ... Maidens RunsConceded  Wickets        Best  \\\n",
              "0         India  Right Handed  ...     NaN          NaN      NaN         NaN   \n",
              "1       England  Right Handed  ...     0.0         13.0      0.0   0/13 v MI   \n",
              "2  South Africa   Left Handed  ...     2.0       1560.0     76.0  4/21 v RCB   \n",
              "3         India  Right Handed  ...     NaN          NaN      NaN         NaN   \n",
              "4         India   Left Handed  ...     0.0         66.0      4.0    1/7 v DC   \n",
              "\n",
              "    3s   5s BowlingAVG  EconomyRate   S/R   Mtc  \n",
              "0  NaN  NaN        NaN          NaN   NaN   NaN  \n",
              "1  0.0  0.0        NaN        13.00   NaN   1.0  \n",
              "2  4.0  0.0      20.52         8.21  15.0  50.0  \n",
              "3  NaN  NaN        NaN          NaN   NaN   NaN  \n",
              "4  0.0  0.0      16.50         8.25  12.0   6.0  \n",
              "\n",
              "[5 rows x 39 columns]"
            ],
            "text/html": [
              "\n",
              "  <div id=\"df-d11b89f9-f3c4-47b8-b2c0-e6dc1aa973ef\">\n",
              "    <div class=\"colab-df-container\">\n",
              "      <div>\n",
              "<style scoped>\n",
              "    .dataframe tbody tr th:only-of-type {\n",
              "        vertical-align: middle;\n",
              "    }\n",
              "\n",
              "    .dataframe tbody tr th {\n",
              "        vertical-align: top;\n",
              "    }\n",
              "\n",
              "    .dataframe thead th {\n",
              "        text-align: right;\n",
              "    }\n",
              "</style>\n",
              "<table border=\"1\" class=\"dataframe\">\n",
              "  <thead>\n",
              "    <tr style=\"text-align: right;\">\n",
              "      <th></th>\n",
              "      <th>Name</th>\n",
              "      <th>Team</th>\n",
              "      <th>Url</th>\n",
              "      <th>Type</th>\n",
              "      <th>ValueinCR</th>\n",
              "      <th>Full Name</th>\n",
              "      <th>Born</th>\n",
              "      <th>Age</th>\n",
              "      <th>National Side</th>\n",
              "      <th>Batting Style</th>\n",
              "      <th>...</th>\n",
              "      <th>Maidens</th>\n",
              "      <th>RunsConceded</th>\n",
              "      <th>Wickets</th>\n",
              "      <th>Best</th>\n",
              "      <th>3s</th>\n",
              "      <th>5s</th>\n",
              "      <th>BowlingAVG</th>\n",
              "      <th>EconomyRate</th>\n",
              "      <th>S/R</th>\n",
              "      <th>Mtc</th>\n",
              "    </tr>\n",
              "  </thead>\n",
              "  <tbody>\n",
              "    <tr>\n",
              "      <th>0</th>\n",
              "      <td>Mayank Agarwal</td>\n",
              "      <td>PBKS</td>\n",
              "      <td>https://sports.ndtv.com/cricket/players/1430-m...</td>\n",
              "      <td>Batsman</td>\n",
              "      <td>12.00</td>\n",
              "      <td>Mayank Anurag Agarwal</td>\n",
              "      <td>February 16, 1991 Bangalore, Karnataka</td>\n",
              "      <td>31 Years, 0 Months, 28 Days</td>\n",
              "      <td>India</td>\n",
              "      <td>Right Handed</td>\n",
              "      <td>...</td>\n",
              "      <td>NaN</td>\n",
              "      <td>NaN</td>\n",
              "      <td>NaN</td>\n",
              "      <td>NaN</td>\n",
              "      <td>NaN</td>\n",
              "      <td>NaN</td>\n",
              "      <td>NaN</td>\n",
              "      <td>NaN</td>\n",
              "      <td>NaN</td>\n",
              "      <td>NaN</td>\n",
              "    </tr>\n",
              "    <tr>\n",
              "      <th>1</th>\n",
              "      <td>Liam Livingstone</td>\n",
              "      <td>PBKS</td>\n",
              "      <td>https://sports.ndtv.com/cricket/players/64363-...</td>\n",
              "      <td>All-Rounder</td>\n",
              "      <td>11.50</td>\n",
              "      <td>Liam Stephen Livingstone</td>\n",
              "      <td>August 4, 1993 Barrow-in-Furness, Cumberland</td>\n",
              "      <td>28 Years, 7 Months, 11 Days</td>\n",
              "      <td>England</td>\n",
              "      <td>Right Handed</td>\n",
              "      <td>...</td>\n",
              "      <td>0.0</td>\n",
              "      <td>13.0</td>\n",
              "      <td>0.0</td>\n",
              "      <td>0/13 v MI</td>\n",
              "      <td>0.0</td>\n",
              "      <td>0.0</td>\n",
              "      <td>NaN</td>\n",
              "      <td>13.00</td>\n",
              "      <td>NaN</td>\n",
              "      <td>1.0</td>\n",
              "    </tr>\n",
              "    <tr>\n",
              "      <th>2</th>\n",
              "      <td>Kagiso Rabada</td>\n",
              "      <td>PBKS</td>\n",
              "      <td>https://sports.ndtv.com/cricket/players/64042-...</td>\n",
              "      <td>Bowler</td>\n",
              "      <td>9.25</td>\n",
              "      <td>Kagiso Rabada</td>\n",
              "      <td>May 25, 1995 Johannesburg</td>\n",
              "      <td>26 Years, 9 Months, 22 Days</td>\n",
              "      <td>South Africa</td>\n",
              "      <td>Left Handed</td>\n",
              "      <td>...</td>\n",
              "      <td>2.0</td>\n",
              "      <td>1560.0</td>\n",
              "      <td>76.0</td>\n",
              "      <td>4/21 v RCB</td>\n",
              "      <td>4.0</td>\n",
              "      <td>0.0</td>\n",
              "      <td>20.52</td>\n",
              "      <td>8.21</td>\n",
              "      <td>15.0</td>\n",
              "      <td>50.0</td>\n",
              "    </tr>\n",
              "    <tr>\n",
              "      <th>3</th>\n",
              "      <td>Shahrukh Khan</td>\n",
              "      <td>PBKS</td>\n",
              "      <td>https://sports.ndtv.com/cricket/players/113433...</td>\n",
              "      <td>All-Rounder</td>\n",
              "      <td>9.00</td>\n",
              "      <td>Masood Shahrukh Khan</td>\n",
              "      <td>May 27, 1995 Chennai, Tamil Nadu</td>\n",
              "      <td>26 Years, 9 Months, 20 Days</td>\n",
              "      <td>India</td>\n",
              "      <td>Right Handed</td>\n",
              "      <td>...</td>\n",
              "      <td>NaN</td>\n",
              "      <td>NaN</td>\n",
              "      <td>NaN</td>\n",
              "      <td>NaN</td>\n",
              "      <td>NaN</td>\n",
              "      <td>NaN</td>\n",
              "      <td>NaN</td>\n",
              "      <td>NaN</td>\n",
              "      <td>NaN</td>\n",
              "      <td>NaN</td>\n",
              "    </tr>\n",
              "    <tr>\n",
              "      <th>4</th>\n",
              "      <td>Shikhar Dhawan</td>\n",
              "      <td>PBKS</td>\n",
              "      <td>https://sports.ndtv.com/cricket/players/737-sh...</td>\n",
              "      <td>Batsman</td>\n",
              "      <td>8.25</td>\n",
              "      <td>Shikhar Dhawan</td>\n",
              "      <td>December 5, 1985 Delhi</td>\n",
              "      <td>36 Years, 3 Months, 10 Days</td>\n",
              "      <td>India</td>\n",
              "      <td>Left Handed</td>\n",
              "      <td>...</td>\n",
              "      <td>0.0</td>\n",
              "      <td>66.0</td>\n",
              "      <td>4.0</td>\n",
              "      <td>1/7 v DC</td>\n",
              "      <td>0.0</td>\n",
              "      <td>0.0</td>\n",
              "      <td>16.50</td>\n",
              "      <td>8.25</td>\n",
              "      <td>12.0</td>\n",
              "      <td>6.0</td>\n",
              "    </tr>\n",
              "  </tbody>\n",
              "</table>\n",
              "<p>5 rows × 39 columns</p>\n",
              "</div>\n",
              "      <button class=\"colab-df-convert\" onclick=\"convertToInteractive('df-d11b89f9-f3c4-47b8-b2c0-e6dc1aa973ef')\"\n",
              "              title=\"Convert this dataframe to an interactive table.\"\n",
              "              style=\"display:none;\">\n",
              "        \n",
              "  <svg xmlns=\"http://www.w3.org/2000/svg\" height=\"24px\"viewBox=\"0 0 24 24\"\n",
              "       width=\"24px\">\n",
              "    <path d=\"M0 0h24v24H0V0z\" fill=\"none\"/>\n",
              "    <path d=\"M18.56 5.44l.94 2.06.94-2.06 2.06-.94-2.06-.94-.94-2.06-.94 2.06-2.06.94zm-11 1L8.5 8.5l.94-2.06 2.06-.94-2.06-.94L8.5 2.5l-.94 2.06-2.06.94zm10 10l.94 2.06.94-2.06 2.06-.94-2.06-.94-.94-2.06-.94 2.06-2.06.94z\"/><path d=\"M17.41 7.96l-1.37-1.37c-.4-.4-.92-.59-1.43-.59-.52 0-1.04.2-1.43.59L10.3 9.45l-7.72 7.72c-.78.78-.78 2.05 0 2.83L4 21.41c.39.39.9.59 1.41.59.51 0 1.02-.2 1.41-.59l7.78-7.78 2.81-2.81c.8-.78.8-2.07 0-2.86zM5.41 20L4 18.59l7.72-7.72 1.47 1.35L5.41 20z\"/>\n",
              "  </svg>\n",
              "      </button>\n",
              "      \n",
              "  <style>\n",
              "    .colab-df-container {\n",
              "      display:flex;\n",
              "      flex-wrap:wrap;\n",
              "      gap: 12px;\n",
              "    }\n",
              "\n",
              "    .colab-df-convert {\n",
              "      background-color: #E8F0FE;\n",
              "      border: none;\n",
              "      border-radius: 50%;\n",
              "      cursor: pointer;\n",
              "      display: none;\n",
              "      fill: #1967D2;\n",
              "      height: 32px;\n",
              "      padding: 0 0 0 0;\n",
              "      width: 32px;\n",
              "    }\n",
              "\n",
              "    .colab-df-convert:hover {\n",
              "      background-color: #E2EBFA;\n",
              "      box-shadow: 0px 1px 2px rgba(60, 64, 67, 0.3), 0px 1px 3px 1px rgba(60, 64, 67, 0.15);\n",
              "      fill: #174EA6;\n",
              "    }\n",
              "\n",
              "    [theme=dark] .colab-df-convert {\n",
              "      background-color: #3B4455;\n",
              "      fill: #D2E3FC;\n",
              "    }\n",
              "\n",
              "    [theme=dark] .colab-df-convert:hover {\n",
              "      background-color: #434B5C;\n",
              "      box-shadow: 0px 1px 3px 1px rgba(0, 0, 0, 0.15);\n",
              "      filter: drop-shadow(0px 1px 2px rgba(0, 0, 0, 0.3));\n",
              "      fill: #FFFFFF;\n",
              "    }\n",
              "  </style>\n",
              "\n",
              "      <script>\n",
              "        const buttonEl =\n",
              "          document.querySelector('#df-d11b89f9-f3c4-47b8-b2c0-e6dc1aa973ef button.colab-df-convert');\n",
              "        buttonEl.style.display =\n",
              "          google.colab.kernel.accessAllowed ? 'block' : 'none';\n",
              "\n",
              "        async function convertToInteractive(key) {\n",
              "          const element = document.querySelector('#df-d11b89f9-f3c4-47b8-b2c0-e6dc1aa973ef');\n",
              "          const dataTable =\n",
              "            await google.colab.kernel.invokeFunction('convertToInteractive',\n",
              "                                                     [key], {});\n",
              "          if (!dataTable) return;\n",
              "\n",
              "          const docLinkHtml = 'Like what you see? Visit the ' +\n",
              "            '<a target=\"_blank\" href=https://colab.research.google.com/notebooks/data_table.ipynb>data table notebook</a>'\n",
              "            + ' to learn more about interactive tables.';\n",
              "          element.innerHTML = '';\n",
              "          dataTable['output_type'] = 'display_data';\n",
              "          await google.colab.output.renderOutput(dataTable, element);\n",
              "          const docLink = document.createElement('div');\n",
              "          docLink.innerHTML = docLinkHtml;\n",
              "          element.appendChild(docLink);\n",
              "        }\n",
              "      </script>\n",
              "    </div>\n",
              "  </div>\n",
              "  "
            ]
          },
          "metadata": {},
          "execution_count": 3
        }
      ]
    },
    {
      "cell_type": "code",
      "source": [
        "df.tail()    #tail-->first five rows"
      ],
      "metadata": {
        "id": "QkskhaDGFWPt",
        "colab": {
          "base_uri": "https://localhost:8080/",
          "height": 733
        },
        "outputId": "28251f9b-df97-47dc-8ab9-0f9a1a3e59d7"
      },
      "execution_count": 4,
      "outputs": [
        {
          "output_type": "execute_result",
          "data": {
            "text/plain": [
              "                     Name Team  \\\n",
              "232  Gurkeerat Singh Mann   GT   \n",
              "233            Noor Ahmad   GT   \n",
              "234      Darshan Nalkande   GT   \n",
              "235         Sai Sudharsan   GT   \n",
              "236       Pradeep Sangwan   GT   \n",
              "\n",
              "                                                   Url          Type  \\\n",
              "232  https://sports.ndtv.com/cricket/players/1661-g...  All-Rounder    \n",
              "233  https://sports.ndtv.com/cricket/players/112545...       Bowler    \n",
              "234  https://sports.ndtv.com/cricket/players/110589...  All-Rounder    \n",
              "235  https://sports.ndtv.com/cricket/players/115302...  All-Rounder    \n",
              "236  https://sports.ndtv.com/cricket/players/1047-p...  All-Rounder    \n",
              "\n",
              "     ValueinCR                 Full Name                                 Born  \\\n",
              "232        0.5  Gurkeerat Rupinder Singh        June 29, 1990 Muktsar, Punjab   \n",
              "233        0.3       Noor Ahmad Lakanwal                     January 3, 2005    \n",
              "234        0.2   Darshan Girish Nalkande  October 4, 1998 Wardha, Maharashtra   \n",
              "235        0.2    Bhardwaj Sai Sudharsan                    October 15, 2001    \n",
              "236        0.2   Pradeep Jaibeer Sangwan      November 5, 1990 Rasiwas, Delhi   \n",
              "\n",
              "                             Age National Side Batting Style  ... Maidens  \\\n",
              "232  31 Years, 8 Months, 16 Days         India  Right Handed  ...     0.0   \n",
              "233  17 Years, 2 Months, 12 Days   Afghanistan  Right Handed  ...     NaN   \n",
              "234  23 Years, 5 Months, 11 Days         India  Right Handed  ...     NaN   \n",
              "235   20 Years, 5 Months, 0 Days         India   Left Handed  ...     NaN   \n",
              "236  31 Years, 4 Months, 10 Days         India  Right Handed  ...     1.0   \n",
              "\n",
              "    RunsConceded  Wickets        Best   3s   5s BowlingAVG  EconomyRate  \\\n",
              "232         97.0      5.0  2/15 v RPS  0.0  0.0      19.40         7.46   \n",
              "233          NaN      NaN         NaN  NaN  NaN        NaN          NaN   \n",
              "234          NaN      NaN         NaN  NaN  NaN        NaN          NaN   \n",
              "235          NaN      NaN         NaN  NaN  NaN        NaN          NaN   \n",
              "236       1175.0     35.0  3/18 v DCH  3.0  0.0      33.57         8.79   \n",
              "\n",
              "       S/R   Mtc  \n",
              "232  15.60   6.0  \n",
              "233    NaN   NaN  \n",
              "234    NaN   NaN  \n",
              "235    NaN   NaN  \n",
              "236  22.91  39.0  \n",
              "\n",
              "[5 rows x 39 columns]"
            ],
            "text/html": [
              "\n",
              "  <div id=\"df-42033482-1bb7-4614-a4ff-414745338cca\">\n",
              "    <div class=\"colab-df-container\">\n",
              "      <div>\n",
              "<style scoped>\n",
              "    .dataframe tbody tr th:only-of-type {\n",
              "        vertical-align: middle;\n",
              "    }\n",
              "\n",
              "    .dataframe tbody tr th {\n",
              "        vertical-align: top;\n",
              "    }\n",
              "\n",
              "    .dataframe thead th {\n",
              "        text-align: right;\n",
              "    }\n",
              "</style>\n",
              "<table border=\"1\" class=\"dataframe\">\n",
              "  <thead>\n",
              "    <tr style=\"text-align: right;\">\n",
              "      <th></th>\n",
              "      <th>Name</th>\n",
              "      <th>Team</th>\n",
              "      <th>Url</th>\n",
              "      <th>Type</th>\n",
              "      <th>ValueinCR</th>\n",
              "      <th>Full Name</th>\n",
              "      <th>Born</th>\n",
              "      <th>Age</th>\n",
              "      <th>National Side</th>\n",
              "      <th>Batting Style</th>\n",
              "      <th>...</th>\n",
              "      <th>Maidens</th>\n",
              "      <th>RunsConceded</th>\n",
              "      <th>Wickets</th>\n",
              "      <th>Best</th>\n",
              "      <th>3s</th>\n",
              "      <th>5s</th>\n",
              "      <th>BowlingAVG</th>\n",
              "      <th>EconomyRate</th>\n",
              "      <th>S/R</th>\n",
              "      <th>Mtc</th>\n",
              "    </tr>\n",
              "  </thead>\n",
              "  <tbody>\n",
              "    <tr>\n",
              "      <th>232</th>\n",
              "      <td>Gurkeerat Singh Mann</td>\n",
              "      <td>GT</td>\n",
              "      <td>https://sports.ndtv.com/cricket/players/1661-g...</td>\n",
              "      <td>All-Rounder</td>\n",
              "      <td>0.5</td>\n",
              "      <td>Gurkeerat Rupinder Singh</td>\n",
              "      <td>June 29, 1990 Muktsar, Punjab</td>\n",
              "      <td>31 Years, 8 Months, 16 Days</td>\n",
              "      <td>India</td>\n",
              "      <td>Right Handed</td>\n",
              "      <td>...</td>\n",
              "      <td>0.0</td>\n",
              "      <td>97.0</td>\n",
              "      <td>5.0</td>\n",
              "      <td>2/15 v RPS</td>\n",
              "      <td>0.0</td>\n",
              "      <td>0.0</td>\n",
              "      <td>19.40</td>\n",
              "      <td>7.46</td>\n",
              "      <td>15.60</td>\n",
              "      <td>6.0</td>\n",
              "    </tr>\n",
              "    <tr>\n",
              "      <th>233</th>\n",
              "      <td>Noor Ahmad</td>\n",
              "      <td>GT</td>\n",
              "      <td>https://sports.ndtv.com/cricket/players/112545...</td>\n",
              "      <td>Bowler</td>\n",
              "      <td>0.3</td>\n",
              "      <td>Noor Ahmad Lakanwal</td>\n",
              "      <td>January 3, 2005</td>\n",
              "      <td>17 Years, 2 Months, 12 Days</td>\n",
              "      <td>Afghanistan</td>\n",
              "      <td>Right Handed</td>\n",
              "      <td>...</td>\n",
              "      <td>NaN</td>\n",
              "      <td>NaN</td>\n",
              "      <td>NaN</td>\n",
              "      <td>NaN</td>\n",
              "      <td>NaN</td>\n",
              "      <td>NaN</td>\n",
              "      <td>NaN</td>\n",
              "      <td>NaN</td>\n",
              "      <td>NaN</td>\n",
              "      <td>NaN</td>\n",
              "    </tr>\n",
              "    <tr>\n",
              "      <th>234</th>\n",
              "      <td>Darshan Nalkande</td>\n",
              "      <td>GT</td>\n",
              "      <td>https://sports.ndtv.com/cricket/players/110589...</td>\n",
              "      <td>All-Rounder</td>\n",
              "      <td>0.2</td>\n",
              "      <td>Darshan Girish Nalkande</td>\n",
              "      <td>October 4, 1998 Wardha, Maharashtra</td>\n",
              "      <td>23 Years, 5 Months, 11 Days</td>\n",
              "      <td>India</td>\n",
              "      <td>Right Handed</td>\n",
              "      <td>...</td>\n",
              "      <td>NaN</td>\n",
              "      <td>NaN</td>\n",
              "      <td>NaN</td>\n",
              "      <td>NaN</td>\n",
              "      <td>NaN</td>\n",
              "      <td>NaN</td>\n",
              "      <td>NaN</td>\n",
              "      <td>NaN</td>\n",
              "      <td>NaN</td>\n",
              "      <td>NaN</td>\n",
              "    </tr>\n",
              "    <tr>\n",
              "      <th>235</th>\n",
              "      <td>Sai Sudharsan</td>\n",
              "      <td>GT</td>\n",
              "      <td>https://sports.ndtv.com/cricket/players/115302...</td>\n",
              "      <td>All-Rounder</td>\n",
              "      <td>0.2</td>\n",
              "      <td>Bhardwaj Sai Sudharsan</td>\n",
              "      <td>October 15, 2001</td>\n",
              "      <td>20 Years, 5 Months, 0 Days</td>\n",
              "      <td>India</td>\n",
              "      <td>Left Handed</td>\n",
              "      <td>...</td>\n",
              "      <td>NaN</td>\n",
              "      <td>NaN</td>\n",
              "      <td>NaN</td>\n",
              "      <td>NaN</td>\n",
              "      <td>NaN</td>\n",
              "      <td>NaN</td>\n",
              "      <td>NaN</td>\n",
              "      <td>NaN</td>\n",
              "      <td>NaN</td>\n",
              "      <td>NaN</td>\n",
              "    </tr>\n",
              "    <tr>\n",
              "      <th>236</th>\n",
              "      <td>Pradeep Sangwan</td>\n",
              "      <td>GT</td>\n",
              "      <td>https://sports.ndtv.com/cricket/players/1047-p...</td>\n",
              "      <td>All-Rounder</td>\n",
              "      <td>0.2</td>\n",
              "      <td>Pradeep Jaibeer Sangwan</td>\n",
              "      <td>November 5, 1990 Rasiwas, Delhi</td>\n",
              "      <td>31 Years, 4 Months, 10 Days</td>\n",
              "      <td>India</td>\n",
              "      <td>Right Handed</td>\n",
              "      <td>...</td>\n",
              "      <td>1.0</td>\n",
              "      <td>1175.0</td>\n",
              "      <td>35.0</td>\n",
              "      <td>3/18 v DCH</td>\n",
              "      <td>3.0</td>\n",
              "      <td>0.0</td>\n",
              "      <td>33.57</td>\n",
              "      <td>8.79</td>\n",
              "      <td>22.91</td>\n",
              "      <td>39.0</td>\n",
              "    </tr>\n",
              "  </tbody>\n",
              "</table>\n",
              "<p>5 rows × 39 columns</p>\n",
              "</div>\n",
              "      <button class=\"colab-df-convert\" onclick=\"convertToInteractive('df-42033482-1bb7-4614-a4ff-414745338cca')\"\n",
              "              title=\"Convert this dataframe to an interactive table.\"\n",
              "              style=\"display:none;\">\n",
              "        \n",
              "  <svg xmlns=\"http://www.w3.org/2000/svg\" height=\"24px\"viewBox=\"0 0 24 24\"\n",
              "       width=\"24px\">\n",
              "    <path d=\"M0 0h24v24H0V0z\" fill=\"none\"/>\n",
              "    <path d=\"M18.56 5.44l.94 2.06.94-2.06 2.06-.94-2.06-.94-.94-2.06-.94 2.06-2.06.94zm-11 1L8.5 8.5l.94-2.06 2.06-.94-2.06-.94L8.5 2.5l-.94 2.06-2.06.94zm10 10l.94 2.06.94-2.06 2.06-.94-2.06-.94-.94-2.06-.94 2.06-2.06.94z\"/><path d=\"M17.41 7.96l-1.37-1.37c-.4-.4-.92-.59-1.43-.59-.52 0-1.04.2-1.43.59L10.3 9.45l-7.72 7.72c-.78.78-.78 2.05 0 2.83L4 21.41c.39.39.9.59 1.41.59.51 0 1.02-.2 1.41-.59l7.78-7.78 2.81-2.81c.8-.78.8-2.07 0-2.86zM5.41 20L4 18.59l7.72-7.72 1.47 1.35L5.41 20z\"/>\n",
              "  </svg>\n",
              "      </button>\n",
              "      \n",
              "  <style>\n",
              "    .colab-df-container {\n",
              "      display:flex;\n",
              "      flex-wrap:wrap;\n",
              "      gap: 12px;\n",
              "    }\n",
              "\n",
              "    .colab-df-convert {\n",
              "      background-color: #E8F0FE;\n",
              "      border: none;\n",
              "      border-radius: 50%;\n",
              "      cursor: pointer;\n",
              "      display: none;\n",
              "      fill: #1967D2;\n",
              "      height: 32px;\n",
              "      padding: 0 0 0 0;\n",
              "      width: 32px;\n",
              "    }\n",
              "\n",
              "    .colab-df-convert:hover {\n",
              "      background-color: #E2EBFA;\n",
              "      box-shadow: 0px 1px 2px rgba(60, 64, 67, 0.3), 0px 1px 3px 1px rgba(60, 64, 67, 0.15);\n",
              "      fill: #174EA6;\n",
              "    }\n",
              "\n",
              "    [theme=dark] .colab-df-convert {\n",
              "      background-color: #3B4455;\n",
              "      fill: #D2E3FC;\n",
              "    }\n",
              "\n",
              "    [theme=dark] .colab-df-convert:hover {\n",
              "      background-color: #434B5C;\n",
              "      box-shadow: 0px 1px 3px 1px rgba(0, 0, 0, 0.15);\n",
              "      filter: drop-shadow(0px 1px 2px rgba(0, 0, 0, 0.3));\n",
              "      fill: #FFFFFF;\n",
              "    }\n",
              "  </style>\n",
              "\n",
              "      <script>\n",
              "        const buttonEl =\n",
              "          document.querySelector('#df-42033482-1bb7-4614-a4ff-414745338cca button.colab-df-convert');\n",
              "        buttonEl.style.display =\n",
              "          google.colab.kernel.accessAllowed ? 'block' : 'none';\n",
              "\n",
              "        async function convertToInteractive(key) {\n",
              "          const element = document.querySelector('#df-42033482-1bb7-4614-a4ff-414745338cca');\n",
              "          const dataTable =\n",
              "            await google.colab.kernel.invokeFunction('convertToInteractive',\n",
              "                                                     [key], {});\n",
              "          if (!dataTable) return;\n",
              "\n",
              "          const docLinkHtml = 'Like what you see? Visit the ' +\n",
              "            '<a target=\"_blank\" href=https://colab.research.google.com/notebooks/data_table.ipynb>data table notebook</a>'\n",
              "            + ' to learn more about interactive tables.';\n",
              "          element.innerHTML = '';\n",
              "          dataTable['output_type'] = 'display_data';\n",
              "          await google.colab.output.renderOutput(dataTable, element);\n",
              "          const docLink = document.createElement('div');\n",
              "          docLink.innerHTML = docLinkHtml;\n",
              "          element.appendChild(docLink);\n",
              "        }\n",
              "      </script>\n",
              "    </div>\n",
              "  </div>\n",
              "  "
            ]
          },
          "metadata": {},
          "execution_count": 4
        }
      ]
    },
    {
      "cell_type": "code",
      "source": [
        "df.shape    #shape-->rows,columns"
      ],
      "metadata": {
        "id": "I5EzO48hFbPs",
        "colab": {
          "base_uri": "https://localhost:8080/"
        },
        "outputId": "c1065628-8683-4a2f-8024-15967bd32188"
      },
      "execution_count": 5,
      "outputs": [
        {
          "output_type": "execute_result",
          "data": {
            "text/plain": [
              "(237, 39)"
            ]
          },
          "metadata": {},
          "execution_count": 5
        }
      ]
    },
    {
      "cell_type": "code",
      "source": [
        "df.columns    #columns in dataset"
      ],
      "metadata": {
        "id": "Fhz9TzH4FQQB",
        "colab": {
          "base_uri": "https://localhost:8080/"
        },
        "outputId": "c239d063-8b6e-4be1-efb9-11ac5eb1c6fa"
      },
      "execution_count": 6,
      "outputs": [
        {
          "output_type": "execute_result",
          "data": {
            "text/plain": [
              "Index(['Name', 'Team', 'Url', 'Type', 'ValueinCR', 'Full Name', 'Born', 'Age',\n",
              "       'National Side', 'Batting Style', 'Bowling', 'Sport', 'MatchPlayed',\n",
              "       'InningsBatted', 'NotOuts', 'RunsScored', 'HighestInnScore', '100s',\n",
              "       '50s', '4s', '6s', 'BattingAVG', 'BattingS/R', 'CatchesTaken',\n",
              "       'StumpingsMade', 'Ducks', 'R/O', 'InningsBowled', 'Overs', 'Maidens',\n",
              "       'RunsConceded', 'Wickets', 'Best', '3s', '5s', 'BowlingAVG',\n",
              "       'EconomyRate', 'S/R', 'Mtc'],\n",
              "      dtype='object')"
            ]
          },
          "metadata": {},
          "execution_count": 6
        }
      ]
    },
    {
      "cell_type": "code",
      "source": [
        "df.info()    #types of data for each column (int,float,object,....)"
      ],
      "metadata": {
        "id": "of2_l9wwFfnZ",
        "colab": {
          "base_uri": "https://localhost:8080/"
        },
        "outputId": "0044e361-7a6c-42da-cb92-3352acf754b0"
      },
      "execution_count": 7,
      "outputs": [
        {
          "output_type": "stream",
          "name": "stdout",
          "text": [
            "<class 'pandas.core.frame.DataFrame'>\n",
            "RangeIndex: 237 entries, 0 to 236\n",
            "Data columns (total 39 columns):\n",
            " #   Column           Non-Null Count  Dtype  \n",
            "---  ------           --------------  -----  \n",
            " 0   Name             237 non-null    object \n",
            " 1   Team             237 non-null    object \n",
            " 2   Url              237 non-null    object \n",
            " 3   Type             237 non-null    object \n",
            " 4   ValueinCR        237 non-null    float64\n",
            " 5   Full Name        231 non-null    object \n",
            " 6   Born             231 non-null    object \n",
            " 7   Age              231 non-null    object \n",
            " 8   National Side    231 non-null    object \n",
            " 9   Batting Style    227 non-null    object \n",
            " 10  Bowling          206 non-null    object \n",
            " 11  Sport            126 non-null    object \n",
            " 12  MatchPlayed      162 non-null    float64\n",
            " 13  InningsBatted    162 non-null    float64\n",
            " 14  NotOuts          162 non-null    float64\n",
            " 15  RunsScored       153 non-null    float64\n",
            " 16  HighestInnScore  153 non-null    object \n",
            " 17  100s             162 non-null    float64\n",
            " 18  50s              162 non-null    float64\n",
            " 19  4s               162 non-null    float64\n",
            " 20  6s               162 non-null    float64\n",
            " 21  BattingAVG       145 non-null    float64\n",
            " 22  BattingS/R       162 non-null    float64\n",
            " 23  CatchesTaken     145 non-null    float64\n",
            " 24  StumpingsMade    145 non-null    float64\n",
            " 25  Ducks            161 non-null    float64\n",
            " 26  R/O              161 non-null    float64\n",
            " 27  InningsBowled    122 non-null    float64\n",
            " 28  Overs            122 non-null    float64\n",
            " 29  Maidens          122 non-null    float64\n",
            " 30  RunsConceded     122 non-null    float64\n",
            " 31  Wickets          122 non-null    float64\n",
            " 32  Best             122 non-null    object \n",
            " 33  3s               122 non-null    float64\n",
            " 34  5s               122 non-null    float64\n",
            " 35  BowlingAVG       105 non-null    float64\n",
            " 36  EconomyRate      122 non-null    float64\n",
            " 37  S/R              105 non-null    float64\n",
            " 38  Mtc              122 non-null    float64\n",
            "dtypes: float64(26), object(13)\n",
            "memory usage: 72.3+ KB\n"
          ]
        }
      ]
    },
    {
      "cell_type": "code",
      "source": [
        "df.describe()    #describes the numerical data's mean,avg,std,..."
      ],
      "metadata": {
        "id": "Db5eHaXlFkFe",
        "colab": {
          "base_uri": "https://localhost:8080/",
          "height": 393
        },
        "outputId": "9ee10884-be1b-4c34-d574-46326d481873"
      },
      "execution_count": 8,
      "outputs": [
        {
          "output_type": "execute_result",
          "data": {
            "text/plain": [
              "        ValueinCR  MatchPlayed  InningsBatted     NotOuts   RunsScored  \\\n",
              "count  237.000000   162.000000     162.000000  162.000000   153.000000   \n",
              "mean     3.695781    50.043210      35.512346    8.179012   792.287582   \n",
              "std      4.238092    53.592359      48.516148   11.182786  1334.058241   \n",
              "min      0.200000     1.000000       0.000000    0.000000     0.000000   \n",
              "25%      0.400000    10.000000       5.000000    1.000000    25.000000   \n",
              "50%      1.900000    29.000000      14.000000    4.000000   148.000000   \n",
              "75%      6.500000    75.250000      50.500000   11.000000   954.000000   \n",
              "max     17.000000   220.000000     208.000000   73.000000  6283.000000   \n",
              "\n",
              "             100s         50s          4s          6s  BattingAVG  ...  \\\n",
              "count  162.000000  162.000000  162.000000  162.000000  145.000000  ...   \n",
              "mean     0.185185    4.148148   65.987654   28.907407   17.988207  ...   \n",
              "std      0.652013    8.865610  121.038723   49.706068   11.656085  ...   \n",
              "min      0.000000    0.000000    0.000000    0.000000    0.000000  ...   \n",
              "25%      0.000000    0.000000    1.000000    0.000000    8.570000  ...   \n",
              "50%      0.000000    0.000000    8.500000    4.000000   16.000000  ...   \n",
              "75%      0.000000    3.750000   79.000000   37.750000   27.330000  ...   \n",
              "max      5.000000   50.000000  654.000000  227.000000   47.430000  ...   \n",
              "\n",
              "            Overs     Maidens  RunsConceded     Wickets          3s  \\\n",
              "count  122.000000  122.000000    122.000000  122.000000  122.000000   \n",
              "mean   105.414754    0.844262    842.024590   29.827869    1.942623   \n",
              "std    130.178621    1.595554    993.185995   38.280110    2.924107   \n",
              "min      0.100000    0.000000      2.000000    0.000000    0.000000   \n",
              "25%     11.000000    0.000000     95.250000    3.000000    0.000000   \n",
              "50%     55.200000    0.000000    455.500000   14.500000    0.000000   \n",
              "75%    144.125000    1.000000   1169.250000   41.500000    3.000000   \n",
              "max    583.000000    9.000000   4061.000000  167.000000   14.000000   \n",
              "\n",
              "               5s  BowlingAVG  EconomyRate         S/R         Mtc  \n",
              "count  122.000000  105.000000   122.000000  105.000000  122.000000  \n",
              "mean     0.090164   34.496476     8.656393   24.841429   32.057377  \n",
              "std      0.315026   19.152172     1.788897   13.250690   37.352088  \n",
              "min      0.000000    5.000000     5.000000    6.000000    1.000000  \n",
              "25%      0.000000   24.530000     7.680000   18.640000    5.000000  \n",
              "50%      0.000000   30.040000     8.290000   21.820000   20.000000  \n",
              "75%      0.000000   38.120000     9.105000   25.840000   43.000000  \n",
              "max      2.000000  153.000000    18.000000  108.000000  171.000000  \n",
              "\n",
              "[8 rows x 26 columns]"
            ],
            "text/html": [
              "\n",
              "  <div id=\"df-f119367f-3360-44b7-8e6b-ba5c7efcfa89\">\n",
              "    <div class=\"colab-df-container\">\n",
              "      <div>\n",
              "<style scoped>\n",
              "    .dataframe tbody tr th:only-of-type {\n",
              "        vertical-align: middle;\n",
              "    }\n",
              "\n",
              "    .dataframe tbody tr th {\n",
              "        vertical-align: top;\n",
              "    }\n",
              "\n",
              "    .dataframe thead th {\n",
              "        text-align: right;\n",
              "    }\n",
              "</style>\n",
              "<table border=\"1\" class=\"dataframe\">\n",
              "  <thead>\n",
              "    <tr style=\"text-align: right;\">\n",
              "      <th></th>\n",
              "      <th>ValueinCR</th>\n",
              "      <th>MatchPlayed</th>\n",
              "      <th>InningsBatted</th>\n",
              "      <th>NotOuts</th>\n",
              "      <th>RunsScored</th>\n",
              "      <th>100s</th>\n",
              "      <th>50s</th>\n",
              "      <th>4s</th>\n",
              "      <th>6s</th>\n",
              "      <th>BattingAVG</th>\n",
              "      <th>...</th>\n",
              "      <th>Overs</th>\n",
              "      <th>Maidens</th>\n",
              "      <th>RunsConceded</th>\n",
              "      <th>Wickets</th>\n",
              "      <th>3s</th>\n",
              "      <th>5s</th>\n",
              "      <th>BowlingAVG</th>\n",
              "      <th>EconomyRate</th>\n",
              "      <th>S/R</th>\n",
              "      <th>Mtc</th>\n",
              "    </tr>\n",
              "  </thead>\n",
              "  <tbody>\n",
              "    <tr>\n",
              "      <th>count</th>\n",
              "      <td>237.000000</td>\n",
              "      <td>162.000000</td>\n",
              "      <td>162.000000</td>\n",
              "      <td>162.000000</td>\n",
              "      <td>153.000000</td>\n",
              "      <td>162.000000</td>\n",
              "      <td>162.000000</td>\n",
              "      <td>162.000000</td>\n",
              "      <td>162.000000</td>\n",
              "      <td>145.000000</td>\n",
              "      <td>...</td>\n",
              "      <td>122.000000</td>\n",
              "      <td>122.000000</td>\n",
              "      <td>122.000000</td>\n",
              "      <td>122.000000</td>\n",
              "      <td>122.000000</td>\n",
              "      <td>122.000000</td>\n",
              "      <td>105.000000</td>\n",
              "      <td>122.000000</td>\n",
              "      <td>105.000000</td>\n",
              "      <td>122.000000</td>\n",
              "    </tr>\n",
              "    <tr>\n",
              "      <th>mean</th>\n",
              "      <td>3.695781</td>\n",
              "      <td>50.043210</td>\n",
              "      <td>35.512346</td>\n",
              "      <td>8.179012</td>\n",
              "      <td>792.287582</td>\n",
              "      <td>0.185185</td>\n",
              "      <td>4.148148</td>\n",
              "      <td>65.987654</td>\n",
              "      <td>28.907407</td>\n",
              "      <td>17.988207</td>\n",
              "      <td>...</td>\n",
              "      <td>105.414754</td>\n",
              "      <td>0.844262</td>\n",
              "      <td>842.024590</td>\n",
              "      <td>29.827869</td>\n",
              "      <td>1.942623</td>\n",
              "      <td>0.090164</td>\n",
              "      <td>34.496476</td>\n",
              "      <td>8.656393</td>\n",
              "      <td>24.841429</td>\n",
              "      <td>32.057377</td>\n",
              "    </tr>\n",
              "    <tr>\n",
              "      <th>std</th>\n",
              "      <td>4.238092</td>\n",
              "      <td>53.592359</td>\n",
              "      <td>48.516148</td>\n",
              "      <td>11.182786</td>\n",
              "      <td>1334.058241</td>\n",
              "      <td>0.652013</td>\n",
              "      <td>8.865610</td>\n",
              "      <td>121.038723</td>\n",
              "      <td>49.706068</td>\n",
              "      <td>11.656085</td>\n",
              "      <td>...</td>\n",
              "      <td>130.178621</td>\n",
              "      <td>1.595554</td>\n",
              "      <td>993.185995</td>\n",
              "      <td>38.280110</td>\n",
              "      <td>2.924107</td>\n",
              "      <td>0.315026</td>\n",
              "      <td>19.152172</td>\n",
              "      <td>1.788897</td>\n",
              "      <td>13.250690</td>\n",
              "      <td>37.352088</td>\n",
              "    </tr>\n",
              "    <tr>\n",
              "      <th>min</th>\n",
              "      <td>0.200000</td>\n",
              "      <td>1.000000</td>\n",
              "      <td>0.000000</td>\n",
              "      <td>0.000000</td>\n",
              "      <td>0.000000</td>\n",
              "      <td>0.000000</td>\n",
              "      <td>0.000000</td>\n",
              "      <td>0.000000</td>\n",
              "      <td>0.000000</td>\n",
              "      <td>0.000000</td>\n",
              "      <td>...</td>\n",
              "      <td>0.100000</td>\n",
              "      <td>0.000000</td>\n",
              "      <td>2.000000</td>\n",
              "      <td>0.000000</td>\n",
              "      <td>0.000000</td>\n",
              "      <td>0.000000</td>\n",
              "      <td>5.000000</td>\n",
              "      <td>5.000000</td>\n",
              "      <td>6.000000</td>\n",
              "      <td>1.000000</td>\n",
              "    </tr>\n",
              "    <tr>\n",
              "      <th>25%</th>\n",
              "      <td>0.400000</td>\n",
              "      <td>10.000000</td>\n",
              "      <td>5.000000</td>\n",
              "      <td>1.000000</td>\n",
              "      <td>25.000000</td>\n",
              "      <td>0.000000</td>\n",
              "      <td>0.000000</td>\n",
              "      <td>1.000000</td>\n",
              "      <td>0.000000</td>\n",
              "      <td>8.570000</td>\n",
              "      <td>...</td>\n",
              "      <td>11.000000</td>\n",
              "      <td>0.000000</td>\n",
              "      <td>95.250000</td>\n",
              "      <td>3.000000</td>\n",
              "      <td>0.000000</td>\n",
              "      <td>0.000000</td>\n",
              "      <td>24.530000</td>\n",
              "      <td>7.680000</td>\n",
              "      <td>18.640000</td>\n",
              "      <td>5.000000</td>\n",
              "    </tr>\n",
              "    <tr>\n",
              "      <th>50%</th>\n",
              "      <td>1.900000</td>\n",
              "      <td>29.000000</td>\n",
              "      <td>14.000000</td>\n",
              "      <td>4.000000</td>\n",
              "      <td>148.000000</td>\n",
              "      <td>0.000000</td>\n",
              "      <td>0.000000</td>\n",
              "      <td>8.500000</td>\n",
              "      <td>4.000000</td>\n",
              "      <td>16.000000</td>\n",
              "      <td>...</td>\n",
              "      <td>55.200000</td>\n",
              "      <td>0.000000</td>\n",
              "      <td>455.500000</td>\n",
              "      <td>14.500000</td>\n",
              "      <td>0.000000</td>\n",
              "      <td>0.000000</td>\n",
              "      <td>30.040000</td>\n",
              "      <td>8.290000</td>\n",
              "      <td>21.820000</td>\n",
              "      <td>20.000000</td>\n",
              "    </tr>\n",
              "    <tr>\n",
              "      <th>75%</th>\n",
              "      <td>6.500000</td>\n",
              "      <td>75.250000</td>\n",
              "      <td>50.500000</td>\n",
              "      <td>11.000000</td>\n",
              "      <td>954.000000</td>\n",
              "      <td>0.000000</td>\n",
              "      <td>3.750000</td>\n",
              "      <td>79.000000</td>\n",
              "      <td>37.750000</td>\n",
              "      <td>27.330000</td>\n",
              "      <td>...</td>\n",
              "      <td>144.125000</td>\n",
              "      <td>1.000000</td>\n",
              "      <td>1169.250000</td>\n",
              "      <td>41.500000</td>\n",
              "      <td>3.000000</td>\n",
              "      <td>0.000000</td>\n",
              "      <td>38.120000</td>\n",
              "      <td>9.105000</td>\n",
              "      <td>25.840000</td>\n",
              "      <td>43.000000</td>\n",
              "    </tr>\n",
              "    <tr>\n",
              "      <th>max</th>\n",
              "      <td>17.000000</td>\n",
              "      <td>220.000000</td>\n",
              "      <td>208.000000</td>\n",
              "      <td>73.000000</td>\n",
              "      <td>6283.000000</td>\n",
              "      <td>5.000000</td>\n",
              "      <td>50.000000</td>\n",
              "      <td>654.000000</td>\n",
              "      <td>227.000000</td>\n",
              "      <td>47.430000</td>\n",
              "      <td>...</td>\n",
              "      <td>583.000000</td>\n",
              "      <td>9.000000</td>\n",
              "      <td>4061.000000</td>\n",
              "      <td>167.000000</td>\n",
              "      <td>14.000000</td>\n",
              "      <td>2.000000</td>\n",
              "      <td>153.000000</td>\n",
              "      <td>18.000000</td>\n",
              "      <td>108.000000</td>\n",
              "      <td>171.000000</td>\n",
              "    </tr>\n",
              "  </tbody>\n",
              "</table>\n",
              "<p>8 rows × 26 columns</p>\n",
              "</div>\n",
              "      <button class=\"colab-df-convert\" onclick=\"convertToInteractive('df-f119367f-3360-44b7-8e6b-ba5c7efcfa89')\"\n",
              "              title=\"Convert this dataframe to an interactive table.\"\n",
              "              style=\"display:none;\">\n",
              "        \n",
              "  <svg xmlns=\"http://www.w3.org/2000/svg\" height=\"24px\"viewBox=\"0 0 24 24\"\n",
              "       width=\"24px\">\n",
              "    <path d=\"M0 0h24v24H0V0z\" fill=\"none\"/>\n",
              "    <path d=\"M18.56 5.44l.94 2.06.94-2.06 2.06-.94-2.06-.94-.94-2.06-.94 2.06-2.06.94zm-11 1L8.5 8.5l.94-2.06 2.06-.94-2.06-.94L8.5 2.5l-.94 2.06-2.06.94zm10 10l.94 2.06.94-2.06 2.06-.94-2.06-.94-.94-2.06-.94 2.06-2.06.94z\"/><path d=\"M17.41 7.96l-1.37-1.37c-.4-.4-.92-.59-1.43-.59-.52 0-1.04.2-1.43.59L10.3 9.45l-7.72 7.72c-.78.78-.78 2.05 0 2.83L4 21.41c.39.39.9.59 1.41.59.51 0 1.02-.2 1.41-.59l7.78-7.78 2.81-2.81c.8-.78.8-2.07 0-2.86zM5.41 20L4 18.59l7.72-7.72 1.47 1.35L5.41 20z\"/>\n",
              "  </svg>\n",
              "      </button>\n",
              "      \n",
              "  <style>\n",
              "    .colab-df-container {\n",
              "      display:flex;\n",
              "      flex-wrap:wrap;\n",
              "      gap: 12px;\n",
              "    }\n",
              "\n",
              "    .colab-df-convert {\n",
              "      background-color: #E8F0FE;\n",
              "      border: none;\n",
              "      border-radius: 50%;\n",
              "      cursor: pointer;\n",
              "      display: none;\n",
              "      fill: #1967D2;\n",
              "      height: 32px;\n",
              "      padding: 0 0 0 0;\n",
              "      width: 32px;\n",
              "    }\n",
              "\n",
              "    .colab-df-convert:hover {\n",
              "      background-color: #E2EBFA;\n",
              "      box-shadow: 0px 1px 2px rgba(60, 64, 67, 0.3), 0px 1px 3px 1px rgba(60, 64, 67, 0.15);\n",
              "      fill: #174EA6;\n",
              "    }\n",
              "\n",
              "    [theme=dark] .colab-df-convert {\n",
              "      background-color: #3B4455;\n",
              "      fill: #D2E3FC;\n",
              "    }\n",
              "\n",
              "    [theme=dark] .colab-df-convert:hover {\n",
              "      background-color: #434B5C;\n",
              "      box-shadow: 0px 1px 3px 1px rgba(0, 0, 0, 0.15);\n",
              "      filter: drop-shadow(0px 1px 2px rgba(0, 0, 0, 0.3));\n",
              "      fill: #FFFFFF;\n",
              "    }\n",
              "  </style>\n",
              "\n",
              "      <script>\n",
              "        const buttonEl =\n",
              "          document.querySelector('#df-f119367f-3360-44b7-8e6b-ba5c7efcfa89 button.colab-df-convert');\n",
              "        buttonEl.style.display =\n",
              "          google.colab.kernel.accessAllowed ? 'block' : 'none';\n",
              "\n",
              "        async function convertToInteractive(key) {\n",
              "          const element = document.querySelector('#df-f119367f-3360-44b7-8e6b-ba5c7efcfa89');\n",
              "          const dataTable =\n",
              "            await google.colab.kernel.invokeFunction('convertToInteractive',\n",
              "                                                     [key], {});\n",
              "          if (!dataTable) return;\n",
              "\n",
              "          const docLinkHtml = 'Like what you see? Visit the ' +\n",
              "            '<a target=\"_blank\" href=https://colab.research.google.com/notebooks/data_table.ipynb>data table notebook</a>'\n",
              "            + ' to learn more about interactive tables.';\n",
              "          element.innerHTML = '';\n",
              "          dataTable['output_type'] = 'display_data';\n",
              "          await google.colab.output.renderOutput(dataTable, element);\n",
              "          const docLink = document.createElement('div');\n",
              "          docLink.innerHTML = docLinkHtml;\n",
              "          element.appendChild(docLink);\n",
              "        }\n",
              "      </script>\n",
              "    </div>\n",
              "  </div>\n",
              "  "
            ]
          },
          "metadata": {},
          "execution_count": 8
        }
      ]
    },
    {
      "cell_type": "markdown",
      "source": [
        "NULL Values in each column"
      ],
      "metadata": {
        "id": "UG0_HouUdM8A"
      }
    },
    {
      "cell_type": "code",
      "source": [
        "df.isnull().sum()"
      ],
      "metadata": {
        "id": "5zId9VJSFoL6",
        "colab": {
          "base_uri": "https://localhost:8080/"
        },
        "outputId": "43bf6fee-7cb7-4a3f-b93b-27b2bb2585ba"
      },
      "execution_count": 9,
      "outputs": [
        {
          "output_type": "execute_result",
          "data": {
            "text/plain": [
              "Name                 0\n",
              "Team                 0\n",
              "Url                  0\n",
              "Type                 0\n",
              "ValueinCR            0\n",
              "Full Name            6\n",
              "Born                 6\n",
              "Age                  6\n",
              "National Side        6\n",
              "Batting Style       10\n",
              "Bowling             31\n",
              "Sport              111\n",
              "MatchPlayed         75\n",
              "InningsBatted       75\n",
              "NotOuts             75\n",
              "RunsScored          84\n",
              "HighestInnScore     84\n",
              "100s                75\n",
              "50s                 75\n",
              "4s                  75\n",
              "6s                  75\n",
              "BattingAVG          92\n",
              "BattingS/R          75\n",
              "CatchesTaken        92\n",
              "StumpingsMade       92\n",
              "Ducks               76\n",
              "R/O                 76\n",
              "InningsBowled      115\n",
              "Overs              115\n",
              "Maidens            115\n",
              "RunsConceded       115\n",
              "Wickets            115\n",
              "Best               115\n",
              "3s                 115\n",
              "5s                 115\n",
              "BowlingAVG         132\n",
              "EconomyRate        115\n",
              "S/R                132\n",
              "Mtc                115\n",
              "dtype: int64"
            ]
          },
          "metadata": {},
          "execution_count": 9
        }
      ]
    },
    {
      "cell_type": "code",
      "source": [
        "df['Type'].value_counts()    #count of number of players of each type"
      ],
      "metadata": {
        "id": "hH9f1-ycFvei",
        "colab": {
          "base_uri": "https://localhost:8080/"
        },
        "outputId": "a539cb56-bda2-4a34-92b3-ad2428f1297a"
      },
      "execution_count": 10,
      "outputs": [
        {
          "output_type": "execute_result",
          "data": {
            "text/plain": [
              "All-Rounder       87\n",
              "Bowler            77\n",
              "Batsman           46\n",
              "Wicket-Keeper     26\n",
              "Wicket-keeper      1\n",
              "Name: Type, dtype: int64"
            ]
          },
          "metadata": {},
          "execution_count": 10
        }
      ]
    },
    {
      "cell_type": "markdown",
      "source": [
        "Exploratory Data Analysis :\n",
        "use plots to understand the data"
      ],
      "metadata": {
        "id": "pi8_ssk1djP7"
      }
    },
    {
      "cell_type": "code",
      "source": [
        "sns.countplot('Type',data=df)    #plot showing the count of players of each type\n",
        "plt.show()"
      ],
      "metadata": {
        "id": "i9mhgO-xHHUl",
        "colab": {
          "base_uri": "https://localhost:8080/",
          "height": 279
        },
        "outputId": "08042519-224c-4735-ac28-5842ab4d29e8"
      },
      "execution_count": 11,
      "outputs": [
        {
          "output_type": "display_data",
          "data": {
            "text/plain": [
              "<Figure size 432x288 with 1 Axes>"
            ],
            "image/png": "[encoded data removed]"
          },
          "metadata": {
            "needs_background": "light"
          }
        }
      ]
    },
    {
      "cell_type": "markdown",
      "source": [
        "Boxplot showing the numerical data through quartiles"
      ],
      "metadata": {
        "id": "mqEM4iwJeJEo"
      }
    },
    {
      "cell_type": "code",
      "source": [
        "sns.boxplot(x='Type',y='ValueinCR',data=df)\n",
        "plt.show()"
      ],
      "metadata": {
        "id": "vxEErmgoHart",
        "colab": {
          "base_uri": "https://localhost:8080/",
          "height": 279
        },
        "outputId": "004fc7a7-5cae-461a-ab2e-3265e95a3af1"
      },
      "execution_count": 12,
      "outputs": [
        {
          "output_type": "display_data",
          "data": {
            "text/plain": [
              "<Figure size 432x288 with 1 Axes>"
            ],
            "image/png": "[encoded data removed]"
          },
          "metadata": {
            "needs_background": "light"
          }
        }
      ]
    },
    {
      "cell_type": "code",
      "source": [
        "sns.boxplot(x='Type',y='BattingAVG',data=df)\n",
        "plt.show()"
      ],
      "metadata": {
        "id": "h3ECBc-qHgPM",
        "colab": {
          "base_uri": "https://localhost:8080/",
          "height": 279
        },
        "outputId": "d05c20f5-842d-4c67-9aeb-591eb09b94ec"
      },
      "execution_count": 13,
      "outputs": [
        {
          "output_type": "display_data",
          "data": {
            "text/plain": [
              "<Figure size 432x288 with 1 Axes>"
            ],
            "image/png": "[encoded data removed]"
          },
          "metadata": {
            "needs_background": "light"
          }
        }
      ]
    },
    {
      "cell_type": "code",
      "source": [
        "sns.boxplot(x='Type',y='BattingS/R',data=df)\n",
        "plt.show()"
      ],
      "metadata": {
        "id": "0xuX-I_IHkfB",
        "colab": {
          "base_uri": "https://localhost:8080/",
          "height": 279
        },
        "outputId": "5af514b3-693b-402b-dad6-e6f492a241c8"
      },
      "execution_count": 14,
      "outputs": [
        {
          "output_type": "display_data",
          "data": {
            "text/plain": [
              "<Figure size 432x288 with 1 Axes>"
            ],
            "image/png": "[encoded data removed]"
          },
          "metadata": {
            "needs_background": "light"
          }
        }
      ]
    },
    {
      "cell_type": "code",
      "source": [
        "sns.boxplot(x='Type',y='BowlingAVG',data=df)\n",
        "plt.show()"
      ],
      "metadata": {
        "id": "x9PzEoH7HpAc",
        "colab": {
          "base_uri": "https://localhost:8080/",
          "height": 283
        },
        "outputId": "fa5a0484-0177-4954-f9dd-8ea37baa48af"
      },
      "execution_count": 15,
      "outputs": [
        {
          "output_type": "display_data",
          "data": {
            "text/plain": [
              "<Figure size 432x288 with 1 Axes>"
            ],
            "image/png": "[encoded data removed]"
          },
          "metadata": {
            "needs_background": "light"
          }
        }
      ]
    },
    {
      "cell_type": "code",
      "source": [
        "sns.boxplot(x='Type',y='EconomyRate',data=df)\n",
        "plt.show()"
      ],
      "metadata": {
        "id": "QpZWRQTLHsGW",
        "colab": {
          "base_uri": "https://localhost:8080/",
          "height": 279
        },
        "outputId": "f160a30d-5a31-4cdc-e672-23728684b08f"
      },
      "execution_count": 16,
      "outputs": [
        {
          "output_type": "display_data",
          "data": {
            "text/plain": [
              "<Figure size 432x288 with 1 Axes>"
            ],
            "image/png": "[encoded data removed]"
          },
          "metadata": {
            "needs_background": "light"
          }
        }
      ]
    },
    {
      "cell_type": "markdown",
      "source": [
        "Correlation used to find relationship between columns"
      ],
      "metadata": {
        "id": "uuxwhBO4eUVF"
      }
    },
    {
      "cell_type": "code",
      "source": [
        "df.corr()"
      ],
      "metadata": {
        "id": "lAjzpHFOH7Zi",
        "colab": {
          "base_uri": "https://localhost:8080/",
          "height": 957
        },
        "outputId": "f2ea311a-d4e3-4c4d-f4d6-6aa95482f5bf"
      },
      "execution_count": 17,
      "outputs": [
        {
          "output_type": "execute_result",
          "data": {
            "text/plain": [
              "               ValueinCR  MatchPlayed  InningsBatted   NotOuts  RunsScored  \\\n",
              "ValueinCR       1.000000     0.442429       0.447535  0.391640    0.435929   \n",
              "MatchPlayed     0.442429     1.000000       0.926281  0.865991    0.824047   \n",
              "InningsBatted   0.447535     0.926281       1.000000  0.803449    0.958796   \n",
              "NotOuts         0.391640     0.865991       0.803449  1.000000    0.658769   \n",
              "RunsScored      0.435929     0.824047       0.958796  0.658769    1.000000   \n",
              "100s            0.304355     0.451438       0.554224  0.262057    0.688252   \n",
              "50s             0.406247     0.715242       0.858001  0.507753    0.959609   \n",
              "4s              0.401474     0.798042       0.932091  0.592251    0.986247   \n",
              "6s              0.515563     0.796185       0.924078  0.699878    0.943805   \n",
              "BattingAVG      0.318379     0.405948       0.584700  0.385599    0.650601   \n",
              "BattingS/R      0.363359     0.377726       0.438521  0.343209    0.390037   \n",
              "CatchesTaken    0.406101     0.914781       0.949688  0.843596    0.888396   \n",
              "StumpingsMade   0.119099     0.445646       0.491016  0.429530    0.457611   \n",
              "Ducks           0.333880     0.837270       0.702879  0.662082    0.555358   \n",
              "R/O             0.369281     0.840160       0.883697  0.642904    0.850344   \n",
              "InningsBowled   0.318610     0.649967       0.320540  0.689639    0.039245   \n",
              "Overs           0.272587     0.590245       0.227085  0.596729   -0.043944   \n",
              "Maidens         0.136495     0.351210      -0.001279  0.284450   -0.160676   \n",
              "RunsConceded    0.266374     0.588923       0.225971  0.609318   -0.044382   \n",
              "Wickets         0.284447     0.568366       0.203230  0.568036   -0.055164   \n",
              "3s              0.313638     0.459189       0.120897  0.459398   -0.088424   \n",
              "5s              0.090834     0.184713       0.070023  0.184783   -0.016048   \n",
              "BowlingAVG     -0.147554    -0.149709      -0.046225 -0.099262    0.008570   \n",
              "EconomyRate    -0.045394    -0.083389       0.027790 -0.076268    0.103967   \n",
              "S/R            -0.118058    -0.117253      -0.031481 -0.077013    0.007518   \n",
              "Mtc             0.318610     0.649967       0.320540  0.689639    0.039245   \n",
              "\n",
              "                   100s       50s        4s        6s  BattingAVG  ...  \\\n",
              "ValueinCR      0.304355  0.406247  0.401474  0.515563    0.318379  ...   \n",
              "MatchPlayed    0.451438  0.715242  0.798042  0.796185    0.405948  ...   \n",
              "InningsBatted  0.554224  0.858001  0.932091  0.924078    0.584700  ...   \n",
              "NotOuts        0.262057  0.507753  0.592251  0.699878    0.385599  ...   \n",
              "RunsScored     0.688252  0.959609  0.986247  0.943805    0.650601  ...   \n",
              "100s           1.000000  0.753827  0.695925  0.604996    0.453563  ...   \n",
              "50s            0.753827  1.000000  0.967402  0.882191    0.630175  ...   \n",
              "4s             0.695925  0.967402  1.000000  0.891707    0.631804  ...   \n",
              "6s             0.604996  0.882191  0.891707  1.000000    0.649920  ...   \n",
              "BattingAVG     0.453563  0.630175  0.631804  0.649920    1.000000  ...   \n",
              "BattingS/R     0.197057  0.333124  0.376986  0.443025    0.690439  ...   \n",
              "CatchesTaken   0.474765  0.770390  0.848780  0.866374    0.522009  ...   \n",
              "StumpingsMade  0.107410  0.337544  0.430169  0.458554    0.258160  ...   \n",
              "Ducks          0.273855  0.478755  0.564146  0.518374    0.179082  ...   \n",
              "R/O            0.468355  0.786106  0.853962  0.778145    0.455935  ...   \n",
              "InningsBowled -0.094045 -0.077138  0.011188  0.163580   -0.114479  ...   \n",
              "Overs         -0.119822 -0.134686 -0.055101  0.054164   -0.193886  ...   \n",
              "Maidens       -0.096807 -0.162698 -0.142095 -0.148700   -0.275145  ...   \n",
              "RunsConceded  -0.122964 -0.134498 -0.058595  0.063528   -0.196327  ...   \n",
              "Wickets       -0.127196 -0.135170 -0.064615  0.042579   -0.200526  ...   \n",
              "3s            -0.117076 -0.141994 -0.089753 -0.015522   -0.234193  ...   \n",
              "5s            -0.052364 -0.052139 -0.015758  0.042933   -0.079960  ...   \n",
              "BowlingAVG     0.167647  0.019009 -0.010843  0.026689   -0.013755  ...   \n",
              "EconomyRate    0.038502  0.127761  0.097932  0.096400    0.127705  ...   \n",
              "S/R            0.159541  0.014331 -0.007873  0.023790   -0.020529  ...   \n",
              "Mtc           -0.094045 -0.077138  0.011188  0.163580   -0.114479  ...   \n",
              "\n",
              "                  Overs   Maidens  RunsConceded   Wickets        3s        5s  \\\n",
              "ValueinCR      0.272587  0.136495      0.266374  0.284447  0.313638  0.090834   \n",
              "MatchPlayed    0.590245  0.351210      0.588923  0.568366  0.459189  0.184713   \n",
              "InningsBatted  0.227085 -0.001279      0.225971  0.203230  0.120897  0.070023   \n",
              "NotOuts        0.596729  0.284450      0.609318  0.568036  0.459398  0.184783   \n",
              "RunsScored    -0.043944 -0.160676     -0.044382 -0.055164 -0.088424 -0.016048   \n",
              "100s          -0.119822 -0.096807     -0.122964 -0.127196 -0.117076 -0.052364   \n",
              "50s           -0.134686 -0.162698     -0.134498 -0.135170 -0.141994 -0.052139   \n",
              "4s            -0.055101 -0.142095     -0.058595 -0.064615 -0.089753 -0.015758   \n",
              "6s             0.054164 -0.148700      0.063528  0.042579 -0.015522  0.042933   \n",
              "BattingAVG    -0.193886 -0.275145     -0.196327 -0.200526 -0.234193 -0.079960   \n",
              "BattingS/R     0.151450 -0.003160      0.147615  0.140348  0.096946  0.072525   \n",
              "CatchesTaken   0.291951  0.053417      0.301454  0.278190  0.184694  0.058912   \n",
              "StumpingsMade -0.074668 -0.054440     -0.078913 -0.068714 -0.068986 -0.029121   \n",
              "Ducks          0.642789  0.446505      0.633288  0.615672  0.508402  0.190321   \n",
              "R/O            0.207956  0.021623      0.196618  0.182231  0.098808  0.092007   \n",
              "InningsBowled  0.984409  0.671184      0.984764  0.961455  0.818747  0.334578   \n",
              "Overs          1.000000  0.735257      0.992903  0.983301  0.852699  0.334740   \n",
              "Maidens        0.735257  1.000000      0.721121  0.743627  0.685361  0.225472   \n",
              "RunsConceded   0.992903  0.721121      1.000000  0.982664  0.860649  0.341899   \n",
              "Wickets        0.983301  0.743627      0.982664  1.000000  0.903548  0.342588   \n",
              "3s             0.852699  0.685361      0.860649  0.903548  1.000000  0.256870   \n",
              "5s             0.334740  0.225472      0.341899  0.342588  0.256870  1.000000   \n",
              "BowlingAVG    -0.244430 -0.200383     -0.241315 -0.298603 -0.305793 -0.141565   \n",
              "EconomyRate   -0.310271 -0.238726     -0.284759 -0.297067 -0.261960 -0.052946   \n",
              "S/R           -0.187832 -0.153158     -0.197331 -0.249602 -0.264738 -0.139931   \n",
              "Mtc            0.984409  0.671184      0.984764  0.961455  0.818747  0.334578   \n",
              "\n",
              "               BowlingAVG  EconomyRate       S/R       Mtc  \n",
              "ValueinCR       -0.147554    -0.045394 -0.118058  0.318610  \n",
              "MatchPlayed     -0.149709    -0.083389 -0.117253  0.649967  \n",
              "InningsBatted   -0.046225     0.027790 -0.031481  0.320540  \n",
              "NotOuts         -0.099262    -0.076268 -0.077013  0.689639  \n",
              "RunsScored       0.008570     0.103967  0.007518  0.039245  \n",
              "100s             0.167647     0.038502  0.159541 -0.094045  \n",
              "50s              0.019009     0.127761  0.014331 -0.077138  \n",
              "4s              -0.010843     0.097932 -0.007873  0.011188  \n",
              "6s               0.026689     0.096400  0.023790  0.163580  \n",
              "BattingAVG      -0.013755     0.127705 -0.020529 -0.114479  \n",
              "BattingS/R       0.008343     0.043204  0.023809  0.204421  \n",
              "CatchesTaken    -0.056765     0.051857 -0.049520  0.384405  \n",
              "StumpingsMade   -0.079668    -0.062072 -0.071199 -0.074277  \n",
              "Ducks           -0.216761    -0.129018 -0.177859  0.664629  \n",
              "R/O             -0.106733     0.043348 -0.082695  0.258700  \n",
              "InningsBowled   -0.223666    -0.299812 -0.172496  1.000000  \n",
              "Overs           -0.244430    -0.310271 -0.187832  0.984409  \n",
              "Maidens         -0.200383    -0.238726 -0.153158  0.671184  \n",
              "RunsConceded    -0.241315    -0.284759 -0.197331  0.984764  \n",
              "Wickets         -0.298603    -0.297067 -0.249602  0.961455  \n",
              "3s              -0.305793    -0.261960 -0.264738  0.818747  \n",
              "5s              -0.141565    -0.052946 -0.139931  0.334578  \n",
              "BowlingAVG       1.000000     0.278283  0.972679 -0.223666  \n",
              "EconomyRate      0.278283     1.000000  0.068901 -0.299812  \n",
              "S/R              0.972679     0.068901  1.000000 -0.172496  \n",
              "Mtc             -0.223666    -0.299812 -0.172496  1.000000  \n",
              "\n",
              "[26 rows x 26 columns]"
            ],
            "text/html": [
              "\n",
              "  <div id=\"df-7f808dcf-40a3-43d3-8857-7f3338002b59\">\n",
              "    <div class=\"colab-df-container\">\n",
              "      <div>\n",
              "<style scoped>\n",
              "    .dataframe tbody tr th:only-of-type {\n",
              "        vertical-align: middle;\n",
              "    }\n",
              "\n",
              "    .dataframe tbody tr th {\n",
              "        vertical-align: top;\n",
              "    }\n",
              "\n",
              "    .dataframe thead th {\n",
              "        text-align: right;\n",
              "    }\n",
              "</style>\n",
              "<table border=\"1\" class=\"dataframe\">\n",
              "  <thead>\n",
              "    <tr style=\"text-align: right;\">\n",
              "      <th></th>\n",
              "      <th>ValueinCR</th>\n",
              "      <th>MatchPlayed</th>\n",
              "      <th>InningsBatted</th>\n",
              "      <th>NotOuts</th>\n",
              "      <th>RunsScored</th>\n",
              "      <th>100s</th>\n",
              "      <th>50s</th>\n",
              "      <th>4s</th>\n",
              "      <th>6s</th>\n",
              "      <th>BattingAVG</th>\n",
              "      <th>...</th>\n",
              "      <th>Overs</th>\n",
              "      <th>Maidens</th>\n",
              "      <th>RunsConceded</th>\n",
              "      <th>Wickets</th>\n",
              "      <th>3s</th>\n",
              "      <th>5s</th>\n",
              "      <th>BowlingAVG</th>\n",
              "      <th>EconomyRate</th>\n",
              "      <th>S/R</th>\n",
              "      <th>Mtc</th>\n",
              "    </tr>\n",
              "  </thead>\n",
              "  <tbody>\n",
              "    <tr>\n",
              "      <th>ValueinCR</th>\n",
              "      <td>1.000000</td>\n",
              "      <td>0.442429</td>\n",
              "      <td>0.447535</td>\n",
              "      <td>0.391640</td>\n",
              "      <td>0.435929</td>\n",
              "      <td>0.304355</td>\n",
              "      <td>0.406247</td>\n",
              "      <td>0.401474</td>\n",
              "      <td>0.515563</td>\n",
              "      <td>0.318379</td>\n",
              "      <td>...</td>\n",
              "      <td>0.272587</td>\n",
              "      <td>0.136495</td>\n",
              "      <td>0.266374</td>\n",
              "      <td>0.284447</td>\n",
              "      <td>0.313638</td>\n",
              "      <td>0.090834</td>\n",
              "      <td>-0.147554</td>\n",
              "      <td>-0.045394</td>\n",
              "      <td>-0.118058</td>\n",
              "      <td>0.318610</td>\n",
              "    </tr>\n",
              "    <tr>\n",
              "      <th>MatchPlayed</th>\n",
              "      <td>0.442429</td>\n",
              "      <td>1.000000</td>\n",
              "      <td>0.926281</td>\n",
              "      <td>0.865991</td>\n",
              "      <td>0.824047</td>\n",
              "      <td>0.451438</td>\n",
              "      <td>0.715242</td>\n",
              "      <td>0.798042</td>\n",
              "      <td>0.796185</td>\n",
              "      <td>0.405948</td>\n",
              "      <td>...</td>\n",
              "      <td>0.590245</td>\n",
              "      <td>0.351210</td>\n",
              "      <td>0.588923</td>\n",
              "      <td>0.568366</td>\n",
              "      <td>0.459189</td>\n",
              "      <td>0.184713</td>\n",
              "      <td>-0.149709</td>\n",
              "      <td>-0.083389</td>\n",
              "      <td>-0.117253</td>\n",
              "      <td>0.649967</td>\n",
              "    </tr>\n",
              "    <tr>\n",
              "      <th>InningsBatted</th>\n",
              "      <td>0.447535</td>\n",
              "      <td>0.926281</td>\n",
              "      <td>1.000000</td>\n",
              "      <td>0.803449</td>\n",
              "      <td>0.958796</td>\n",
              "      <td>0.554224</td>\n",
              "      <td>0.858001</td>\n",
              "      <td>0.932091</td>\n",
              "      <td>0.924078</td>\n",
              "      <td>0.584700</td>\n",
              "      <td>...</td>\n",
              "      <td>0.227085</td>\n",
              "      <td>-0.001279</td>\n",
              "      <td>0.225971</td>\n",
              "      <td>0.203230</td>\n",
              "      <td>0.120897</td>\n",
              "      <td>0.070023</td>\n",
              "      <td>-0.046225</td>\n",
              "      <td>0.027790</td>\n",
              "      <td>-0.031481</td>\n",
              "      <td>0.320540</td>\n",
              "    </tr>\n",
              "    <tr>\n",
              "      <th>NotOuts</th>\n",
              "      <td>0.391640</td>\n",
              "      <td>0.865991</td>\n",
              "      <td>0.803449</td>\n",
              "      <td>1.000000</td>\n",
              "      <td>0.658769</td>\n",
              "      <td>0.262057</td>\n",
              "      <td>0.507753</td>\n",
              "      <td>0.592251</td>\n",
              "      <td>0.699878</td>\n",
              "      <td>0.385599</td>\n",
              "      <td>...</td>\n",
              "      <td>0.596729</td>\n",
              "      <td>0.284450</td>\n",
              "      <td>0.609318</td>\n",
              "      <td>0.568036</td>\n",
              "      <td>0.459398</td>\n",
              "      <td>0.184783</td>\n",
              "      <td>-0.099262</td>\n",
              "      <td>-0.076268</td>\n",
              "      <td>-0.077013</td>\n",
              "      <td>0.689639</td>\n",
              "    </tr>\n",
              "    <tr>\n",
              "      <th>RunsScored</th>\n",
              "      <td>0.435929</td>\n",
              "      <td>0.824047</td>\n",
              "      <td>0.958796</td>\n",
              "      <td>0.658769</td>\n",
              "      <td>1.000000</td>\n",
              "      <td>0.688252</td>\n",
              "      <td>0.959609</td>\n",
              "      <td>0.986247</td>\n",
              "      <td>0.943805</td>\n",
              "      <td>0.650601</td>\n",
              "      <td>...</td>\n",
              "      <td>-0.043944</td>\n",
              "      <td>-0.160676</td>\n",
              "      <td>-0.044382</td>\n",
              "      <td>-0.055164</td>\n",
              "      <td>-0.088424</td>\n",
              "      <td>-0.016048</td>\n",
              "      <td>0.008570</td>\n",
              "      <td>0.103967</td>\n",
              "      <td>0.007518</td>\n",
              "      <td>0.039245</td>\n",
              "    </tr>\n",
              "    <tr>\n",
              "      <th>100s</th>\n",
              "      <td>0.304355</td>\n",
              "      <td>0.451438</td>\n",
              "      <td>0.554224</td>\n",
              "      <td>0.262057</td>\n",
              "      <td>0.688252</td>\n",
              "      <td>1.000000</td>\n",
              "      <td>0.753827</td>\n",
              "      <td>0.695925</td>\n",
              "      <td>0.604996</td>\n",
              "      <td>0.453563</td>\n",
              "      <td>...</td>\n",
              "      <td>-0.119822</td>\n",
              "      <td>-0.096807</td>\n",
              "      <td>-0.122964</td>\n",
              "      <td>-0.127196</td>\n",
              "      <td>-0.117076</td>\n",
              "      <td>-0.052364</td>\n",
              "      <td>0.167647</td>\n",
              "      <td>0.038502</td>\n",
              "      <td>0.159541</td>\n",
              "      <td>-0.094045</td>\n",
              "    </tr>\n",
              "    <tr>\n",
              "      <th>50s</th>\n",
              "      <td>0.406247</td>\n",
              "      <td>0.715242</td>\n",
              "      <td>0.858001</td>\n",
              "      <td>0.507753</td>\n",
              "      <td>0.959609</td>\n",
              "      <td>0.753827</td>\n",
              "      <td>1.000000</td>\n",
              "      <td>0.967402</td>\n",
              "      <td>0.882191</td>\n",
              "      <td>0.630175</td>\n",
              "      <td>...</td>\n",
              "      <td>-0.134686</td>\n",
              "      <td>-0.162698</td>\n",
              "      <td>-0.134498</td>\n",
              "      <td>-0.135170</td>\n",
              "      <td>-0.141994</td>\n",
              "      <td>-0.052139</td>\n",
              "      <td>0.019009</td>\n",
              "      <td>0.127761</td>\n",
              "      <td>0.014331</td>\n",
              "      <td>-0.077138</td>\n",
              "    </tr>\n",
              "    <tr>\n",
              "      <th>4s</th>\n",
              "      <td>0.401474</td>\n",
              "      <td>0.798042</td>\n",
              "      <td>0.932091</td>\n",
              "      <td>0.592251</td>\n",
              "      <td>0.986247</td>\n",
              "      <td>0.695925</td>\n",
              "      <td>0.967402</td>\n",
              "      <td>1.000000</td>\n",
              "      <td>0.891707</td>\n",
              "      <td>0.631804</td>\n",
              "      <td>...</td>\n",
              "      <td>-0.055101</td>\n",
              "      <td>-0.142095</td>\n",
              "      <td>-0.058595</td>\n",
              "      <td>-0.064615</td>\n",
              "      <td>-0.089753</td>\n",
              "      <td>-0.015758</td>\n",
              "      <td>-0.010843</td>\n",
              "      <td>0.097932</td>\n",
              "      <td>-0.007873</td>\n",
              "      <td>0.011188</td>\n",
              "    </tr>\n",
              "    <tr>\n",
              "      <th>6s</th>\n",
              "      <td>0.515563</td>\n",
              "      <td>0.796185</td>\n",
              "      <td>0.924078</td>\n",
              "      <td>0.699878</td>\n",
              "      <td>0.943805</td>\n",
              "      <td>0.604996</td>\n",
              "      <td>0.882191</td>\n",
              "      <td>0.891707</td>\n",
              "      <td>1.000000</td>\n",
              "      <td>0.649920</td>\n",
              "      <td>...</td>\n",
              "      <td>0.054164</td>\n",
              "      <td>-0.148700</td>\n",
              "      <td>0.063528</td>\n",
              "      <td>0.042579</td>\n",
              "      <td>-0.015522</td>\n",
              "      <td>0.042933</td>\n",
              "      <td>0.026689</td>\n",
              "      <td>0.096400</td>\n",
              "      <td>0.023790</td>\n",
              "      <td>0.163580</td>\n",
              "    </tr>\n",
              "    <tr>\n",
              "      <th>BattingAVG</th>\n",
              "      <td>0.318379</td>\n",
              "      <td>0.405948</td>\n",
              "      <td>0.584700</td>\n",
              "      <td>0.385599</td>\n",
              "      <td>0.650601</td>\n",
              "      <td>0.453563</td>\n",
              "      <td>0.630175</td>\n",
              "      <td>0.631804</td>\n",
              "      <td>0.649920</td>\n",
              "      <td>1.000000</td>\n",
              "      <td>...</td>\n",
              "      <td>-0.193886</td>\n",
              "      <td>-0.275145</td>\n",
              "      <td>-0.196327</td>\n",
              "      <td>-0.200526</td>\n",
              "      <td>-0.234193</td>\n",
              "      <td>-0.079960</td>\n",
              "      <td>-0.013755</td>\n",
              "      <td>0.127705</td>\n",
              "      <td>-0.020529</td>\n",
              "      <td>-0.114479</td>\n",
              "    </tr>\n",
              "    <tr>\n",
              "      <th>BattingS/R</th>\n",
              "      <td>0.363359</td>\n",
              "      <td>0.377726</td>\n",
              "      <td>0.438521</td>\n",
              "      <td>0.343209</td>\n",
              "      <td>0.390037</td>\n",
              "      <td>0.197057</td>\n",
              "      <td>0.333124</td>\n",
              "      <td>0.376986</td>\n",
              "      <td>0.443025</td>\n",
              "      <td>0.690439</td>\n",
              "      <td>...</td>\n",
              "      <td>0.151450</td>\n",
              "      <td>-0.003160</td>\n",
              "      <td>0.147615</td>\n",
              "      <td>0.140348</td>\n",
              "      <td>0.096946</td>\n",
              "      <td>0.072525</td>\n",
              "      <td>0.008343</td>\n",
              "      <td>0.043204</td>\n",
              "      <td>0.023809</td>\n",
              "      <td>0.204421</td>\n",
              "    </tr>\n",
              "    <tr>\n",
              "      <th>CatchesTaken</th>\n",
              "      <td>0.406101</td>\n",
              "      <td>0.914781</td>\n",
              "      <td>0.949688</td>\n",
              "      <td>0.843596</td>\n",
              "      <td>0.888396</td>\n",
              "      <td>0.474765</td>\n",
              "      <td>0.770390</td>\n",
              "      <td>0.848780</td>\n",
              "      <td>0.866374</td>\n",
              "      <td>0.522009</td>\n",
              "      <td>...</td>\n",
              "      <td>0.291951</td>\n",
              "      <td>0.053417</td>\n",
              "      <td>0.301454</td>\n",
              "      <td>0.278190</td>\n",
              "      <td>0.184694</td>\n",
              "      <td>0.058912</td>\n",
              "      <td>-0.056765</td>\n",
              "      <td>0.051857</td>\n",
              "      <td>-0.049520</td>\n",
              "      <td>0.384405</td>\n",
              "    </tr>\n",
              "    <tr>\n",
              "      <th>StumpingsMade</th>\n",
              "      <td>0.119099</td>\n",
              "      <td>0.445646</td>\n",
              "      <td>0.491016</td>\n",
              "      <td>0.429530</td>\n",
              "      <td>0.457611</td>\n",
              "      <td>0.107410</td>\n",
              "      <td>0.337544</td>\n",
              "      <td>0.430169</td>\n",
              "      <td>0.458554</td>\n",
              "      <td>0.258160</td>\n",
              "      <td>...</td>\n",
              "      <td>-0.074668</td>\n",
              "      <td>-0.054440</td>\n",
              "      <td>-0.078913</td>\n",
              "      <td>-0.068714</td>\n",
              "      <td>-0.068986</td>\n",
              "      <td>-0.029121</td>\n",
              "      <td>-0.079668</td>\n",
              "      <td>-0.062072</td>\n",
              "      <td>-0.071199</td>\n",
              "      <td>-0.074277</td>\n",
              "    </tr>\n",
              "    <tr>\n",
              "      <th>Ducks</th>\n",
              "      <td>0.333880</td>\n",
              "      <td>0.837270</td>\n",
              "      <td>0.702879</td>\n",
              "      <td>0.662082</td>\n",
              "      <td>0.555358</td>\n",
              "      <td>0.273855</td>\n",
              "      <td>0.478755</td>\n",
              "      <td>0.564146</td>\n",
              "      <td>0.518374</td>\n",
              "      <td>0.179082</td>\n",
              "      <td>...</td>\n",
              "      <td>0.642789</td>\n",
              "      <td>0.446505</td>\n",
              "      <td>0.633288</td>\n",
              "      <td>0.615672</td>\n",
              "      <td>0.508402</td>\n",
              "      <td>0.190321</td>\n",
              "      <td>-0.216761</td>\n",
              "      <td>-0.129018</td>\n",
              "      <td>-0.177859</td>\n",
              "      <td>0.664629</td>\n",
              "    </tr>\n",
              "    <tr>\n",
              "      <th>R/O</th>\n",
              "      <td>0.369281</td>\n",
              "      <td>0.840160</td>\n",
              "      <td>0.883697</td>\n",
              "      <td>0.642904</td>\n",
              "      <td>0.850344</td>\n",
              "      <td>0.468355</td>\n",
              "      <td>0.786106</td>\n",
              "      <td>0.853962</td>\n",
              "      <td>0.778145</td>\n",
              "      <td>0.455935</td>\n",
              "      <td>...</td>\n",
              "      <td>0.207956</td>\n",
              "      <td>0.021623</td>\n",
              "      <td>0.196618</td>\n",
              "      <td>0.182231</td>\n",
              "      <td>0.098808</td>\n",
              "      <td>0.092007</td>\n",
              "      <td>-0.106733</td>\n",
              "      <td>0.043348</td>\n",
              "      <td>-0.082695</td>\n",
              "      <td>0.258700</td>\n",
              "    </tr>\n",
              "    <tr>\n",
              "      <th>InningsBowled</th>\n",
              "      <td>0.318610</td>\n",
              "      <td>0.649967</td>\n",
              "      <td>0.320540</td>\n",
              "      <td>0.689639</td>\n",
              "      <td>0.039245</td>\n",
              "      <td>-0.094045</td>\n",
              "      <td>-0.077138</td>\n",
              "      <td>0.011188</td>\n",
              "      <td>0.163580</td>\n",
              "      <td>-0.114479</td>\n",
              "      <td>...</td>\n",
              "      <td>0.984409</td>\n",
              "      <td>0.671184</td>\n",
              "      <td>0.984764</td>\n",
              "      <td>0.961455</td>\n",
              "      <td>0.818747</td>\n",
              "      <td>0.334578</td>\n",
              "      <td>-0.223666</td>\n",
              "      <td>-0.299812</td>\n",
              "      <td>-0.172496</td>\n",
              "      <td>1.000000</td>\n",
              "    </tr>\n",
              "    <tr>\n",
              "      <th>Overs</th>\n",
              "      <td>0.272587</td>\n",
              "      <td>0.590245</td>\n",
              "      <td>0.227085</td>\n",
              "      <td>0.596729</td>\n",
              "      <td>-0.043944</td>\n",
              "      <td>-0.119822</td>\n",
              "      <td>-0.134686</td>\n",
              "      <td>-0.055101</td>\n",
              "      <td>0.054164</td>\n",
              "      <td>-0.193886</td>\n",
              "      <td>...</td>\n",
              "      <td>1.000000</td>\n",
              "      <td>0.735257</td>\n",
              "      <td>0.992903</td>\n",
              "      <td>0.983301</td>\n",
              "      <td>0.852699</td>\n",
              "      <td>0.334740</td>\n",
              "      <td>-0.244430</td>\n",
              "      <td>-0.310271</td>\n",
              "      <td>-0.187832</td>\n",
              "      <td>0.984409</td>\n",
              "    </tr>\n",
              "    <tr>\n",
              "      <th>Maidens</th>\n",
              "      <td>0.136495</td>\n",
              "      <td>0.351210</td>\n",
              "      <td>-0.001279</td>\n",
              "      <td>0.284450</td>\n",
              "      <td>-0.160676</td>\n",
              "      <td>-0.096807</td>\n",
              "      <td>-0.162698</td>\n",
              "      <td>-0.142095</td>\n",
              "      <td>-0.148700</td>\n",
              "      <td>-0.275145</td>\n",
              "      <td>...</td>\n",
              "      <td>0.735257</td>\n",
              "      <td>1.000000</td>\n",
              "      <td>0.721121</td>\n",
              "      <td>0.743627</td>\n",
              "      <td>0.685361</td>\n",
              "      <td>0.225472</td>\n",
              "      <td>-0.200383</td>\n",
              "      <td>-0.238726</td>\n",
              "      <td>-0.153158</td>\n",
              "      <td>0.671184</td>\n",
              "    </tr>\n",
              "    <tr>\n",
              "      <th>RunsConceded</th>\n",
              "      <td>0.266374</td>\n",
              "      <td>0.588923</td>\n",
              "      <td>0.225971</td>\n",
              "      <td>0.609318</td>\n",
              "      <td>-0.044382</td>\n",
              "      <td>-0.122964</td>\n",
              "      <td>-0.134498</td>\n",
              "      <td>-0.058595</td>\n",
              "      <td>0.063528</td>\n",
              "      <td>-0.196327</td>\n",
              "      <td>...</td>\n",
              "      <td>0.992903</td>\n",
              "      <td>0.721121</td>\n",
              "      <td>1.000000</td>\n",
              "      <td>0.982664</td>\n",
              "      <td>0.860649</td>\n",
              "      <td>0.341899</td>\n",
              "      <td>-0.241315</td>\n",
              "      <td>-0.284759</td>\n",
              "      <td>-0.197331</td>\n",
              "      <td>0.984764</td>\n",
              "    </tr>\n",
              "    <tr>\n",
              "      <th>Wickets</th>\n",
              "      <td>0.284447</td>\n",
              "      <td>0.568366</td>\n",
              "      <td>0.203230</td>\n",
              "      <td>0.568036</td>\n",
              "      <td>-0.055164</td>\n",
              "      <td>-0.127196</td>\n",
              "      <td>-0.135170</td>\n",
              "      <td>-0.064615</td>\n",
              "      <td>0.042579</td>\n",
              "      <td>-0.200526</td>\n",
              "      <td>...</td>\n",
              "      <td>0.983301</td>\n",
              "      <td>0.743627</td>\n",
              "      <td>0.982664</td>\n",
              "      <td>1.000000</td>\n",
              "      <td>0.903548</td>\n",
              "      <td>0.342588</td>\n",
              "      <td>-0.298603</td>\n",
              "      <td>-0.297067</td>\n",
              "      <td>-0.249602</td>\n",
              "      <td>0.961455</td>\n",
              "    </tr>\n",
              "    <tr>\n",
              "      <th>3s</th>\n",
              "      <td>0.313638</td>\n",
              "      <td>0.459189</td>\n",
              "      <td>0.120897</td>\n",
              "      <td>0.459398</td>\n",
              "      <td>-0.088424</td>\n",
              "      <td>-0.117076</td>\n",
              "      <td>-0.141994</td>\n",
              "      <td>-0.089753</td>\n",
              "      <td>-0.015522</td>\n",
              "      <td>-0.234193</td>\n",
              "      <td>...</td>\n",
              "      <td>0.852699</td>\n",
              "      <td>0.685361</td>\n",
              "      <td>0.860649</td>\n",
              "      <td>0.903548</td>\n",
              "      <td>1.000000</td>\n",
              "      <td>0.256870</td>\n",
              "      <td>-0.305793</td>\n",
              "      <td>-0.261960</td>\n",
              "      <td>-0.264738</td>\n",
              "      <td>0.818747</td>\n",
              "    </tr>\n",
              "    <tr>\n",
              "      <th>5s</th>\n",
              "      <td>0.090834</td>\n",
              "      <td>0.184713</td>\n",
              "      <td>0.070023</td>\n",
              "      <td>0.184783</td>\n",
              "      <td>-0.016048</td>\n",
              "      <td>-0.052364</td>\n",
              "      <td>-0.052139</td>\n",
              "      <td>-0.015758</td>\n",
              "      <td>0.042933</td>\n",
              "      <td>-0.079960</td>\n",
              "      <td>...</td>\n",
              "      <td>0.334740</td>\n",
              "      <td>0.225472</td>\n",
              "      <td>0.341899</td>\n",
              "      <td>0.342588</td>\n",
              "      <td>0.256870</td>\n",
              "      <td>1.000000</td>\n",
              "      <td>-0.141565</td>\n",
              "      <td>-0.052946</td>\n",
              "      <td>-0.139931</td>\n",
              "      <td>0.334578</td>\n",
              "    </tr>\n",
              "    <tr>\n",
              "      <th>BowlingAVG</th>\n",
              "      <td>-0.147554</td>\n",
              "      <td>-0.149709</td>\n",
              "      <td>-0.046225</td>\n",
              "      <td>-0.099262</td>\n",
              "      <td>0.008570</td>\n",
              "      <td>0.167647</td>\n",
              "      <td>0.019009</td>\n",
              "      <td>-0.010843</td>\n",
              "      <td>0.026689</td>\n",
              "      <td>-0.013755</td>\n",
              "      <td>...</td>\n",
              "      <td>-0.244430</td>\n",
              "      <td>-0.200383</td>\n",
              "      <td>-0.241315</td>\n",
              "      <td>-0.298603</td>\n",
              "      <td>-0.305793</td>\n",
              "      <td>-0.141565</td>\n",
              "      <td>1.000000</td>\n",
              "      <td>0.278283</td>\n",
              "      <td>0.972679</td>\n",
              "      <td>-0.223666</td>\n",
              "    </tr>\n",
              "    <tr>\n",
              "      <th>EconomyRate</th>\n",
              "      <td>-0.045394</td>\n",
              "      <td>-0.083389</td>\n",
              "      <td>0.027790</td>\n",
              "      <td>-0.076268</td>\n",
              "      <td>0.103967</td>\n",
              "      <td>0.038502</td>\n",
              "      <td>0.127761</td>\n",
              "      <td>0.097932</td>\n",
              "      <td>0.096400</td>\n",
              "      <td>0.127705</td>\n",
              "      <td>...</td>\n",
              "      <td>-0.310271</td>\n",
              "      <td>-0.238726</td>\n",
              "      <td>-0.284759</td>\n",
              "      <td>-0.297067</td>\n",
              "      <td>-0.261960</td>\n",
              "      <td>-0.052946</td>\n",
              "      <td>0.278283</td>\n",
              "      <td>1.000000</td>\n",
              "      <td>0.068901</td>\n",
              "      <td>-0.299812</td>\n",
              "    </tr>\n",
              "    <tr>\n",
              "      <th>S/R</th>\n",
              "      <td>-0.118058</td>\n",
              "      <td>-0.117253</td>\n",
              "      <td>-0.031481</td>\n",
              "      <td>-0.077013</td>\n",
              "      <td>0.007518</td>\n",
              "      <td>0.159541</td>\n",
              "      <td>0.014331</td>\n",
              "      <td>-0.007873</td>\n",
              "      <td>0.023790</td>\n",
              "      <td>-0.020529</td>\n",
              "      <td>...</td>\n",
              "      <td>-0.187832</td>\n",
              "      <td>-0.153158</td>\n",
              "      <td>-0.197331</td>\n",
              "      <td>-0.249602</td>\n",
              "      <td>-0.264738</td>\n",
              "      <td>-0.139931</td>\n",
              "      <td>0.972679</td>\n",
              "      <td>0.068901</td>\n",
              "      <td>1.000000</td>\n",
              "      <td>-0.172496</td>\n",
              "    </tr>\n",
              "    <tr>\n",
              "      <th>Mtc</th>\n",
              "      <td>0.318610</td>\n",
              "      <td>0.649967</td>\n",
              "      <td>0.320540</td>\n",
              "      <td>0.689639</td>\n",
              "      <td>0.039245</td>\n",
              "      <td>-0.094045</td>\n",
              "      <td>-0.077138</td>\n",
              "      <td>0.011188</td>\n",
              "      <td>0.163580</td>\n",
              "      <td>-0.114479</td>\n",
              "      <td>...</td>\n",
              "      <td>0.984409</td>\n",
              "      <td>0.671184</td>\n",
              "      <td>0.984764</td>\n",
              "      <td>0.961455</td>\n",
              "      <td>0.818747</td>\n",
              "      <td>0.334578</td>\n",
              "      <td>-0.223666</td>\n",
              "      <td>-0.299812</td>\n",
              "      <td>-0.172496</td>\n",
              "      <td>1.000000</td>\n",
              "    </tr>\n",
              "  </tbody>\n",
              "</table>\n",
              "<p>26 rows × 26 columns</p>\n",
              "</div>\n",
              "      <button class=\"colab-df-convert\" onclick=\"convertToInteractive('df-7f808dcf-40a3-43d3-8857-7f3338002b59')\"\n",
              "              title=\"Convert this dataframe to an interactive table.\"\n",
              "              style=\"display:none;\">\n",
              "        \n",
              "  <svg xmlns=\"http://www.w3.org/2000/svg\" height=\"24px\"viewBox=\"0 0 24 24\"\n",
              "       width=\"24px\">\n",
              "    <path d=\"M0 0h24v24H0V0z\" fill=\"none\"/>\n",
              "    <path d=\"M18.56 5.44l.94 2.06.94-2.06 2.06-.94-2.06-.94-.94-2.06-.94 2.06-2.06.94zm-11 1L8.5 8.5l.94-2.06 2.06-.94-2.06-.94L8.5 2.5l-.94 2.06-2.06.94zm10 10l.94 2.06.94-2.06 2.06-.94-2.06-.94-.94-2.06-.94 2.06-2.06.94z\"/><path d=\"M17.41 7.96l-1.37-1.37c-.4-.4-.92-.59-1.43-.59-.52 0-1.04.2-1.43.59L10.3 9.45l-7.72 7.72c-.78.78-.78 2.05 0 2.83L4 21.41c.39.39.9.59 1.41.59.51 0 1.02-.2 1.41-.59l7.78-7.78 2.81-2.81c.8-.78.8-2.07 0-2.86zM5.41 20L4 18.59l7.72-7.72 1.47 1.35L5.41 20z\"/>\n",
              "  </svg>\n",
              "      </button>\n",
              "      \n",
              "  <style>\n",
              "    .colab-df-container {\n",
              "      display:flex;\n",
              "      flex-wrap:wrap;\n",
              "      gap: 12px;\n",
              "    }\n",
              "\n",
              "    .colab-df-convert {\n",
              "      background-color: #E8F0FE;\n",
              "      border: none;\n",
              "      border-radius: 50%;\n",
              "      cursor: pointer;\n",
              "      display: none;\n",
              "      fill: #1967D2;\n",
              "      height: 32px;\n",
              "      padding: 0 0 0 0;\n",
              "      width: 32px;\n",
              "    }\n",
              "\n",
              "    .colab-df-convert:hover {\n",
              "      background-color: #E2EBFA;\n",
              "      box-shadow: 0px 1px 2px rgba(60, 64, 67, 0.3), 0px 1px 3px 1px rgba(60, 64, 67, 0.15);\n",
              "      fill: #174EA6;\n",
              "    }\n",
              "\n",
              "    [theme=dark] .colab-df-convert {\n",
              "      background-color: #3B4455;\n",
              "      fill: #D2E3FC;\n",
              "    }\n",
              "\n",
              "    [theme=dark] .colab-df-convert:hover {\n",
              "      background-color: #434B5C;\n",
              "      box-shadow: 0px 1px 3px 1px rgba(0, 0, 0, 0.15);\n",
              "      filter: drop-shadow(0px 1px 2px rgba(0, 0, 0, 0.3));\n",
              "      fill: #FFFFFF;\n",
              "    }\n",
              "  </style>\n",
              "\n",
              "      <script>\n",
              "        const buttonEl =\n",
              "          document.querySelector('#df-7f808dcf-40a3-43d3-8857-7f3338002b59 button.colab-df-convert');\n",
              "        buttonEl.style.display =\n",
              "          google.colab.kernel.accessAllowed ? 'block' : 'none';\n",
              "\n",
              "        async function convertToInteractive(key) {\n",
              "          const element = document.querySelector('#df-7f808dcf-40a3-43d3-8857-7f3338002b59');\n",
              "          const dataTable =\n",
              "            await google.colab.kernel.invokeFunction('convertToInteractive',\n",
              "                                                     [key], {});\n",
              "          if (!dataTable) return;\n",
              "\n",
              "          const docLinkHtml = 'Like what you see? Visit the ' +\n",
              "            '<a target=\"_blank\" href=https://colab.research.google.com/notebooks/data_table.ipynb>data table notebook</a>'\n",
              "            + ' to learn more about interactive tables.';\n",
              "          element.innerHTML = '';\n",
              "          dataTable['output_type'] = 'display_data';\n",
              "          await google.colab.output.renderOutput(dataTable, element);\n",
              "          const docLink = document.createElement('div');\n",
              "          docLink.innerHTML = docLinkHtml;\n",
              "          element.appendChild(docLink);\n",
              "        }\n",
              "      </script>\n",
              "    </div>\n",
              "  </div>\n",
              "  "
            ]
          },
          "metadata": {},
          "execution_count": 17
        }
      ]
    },
    {
      "cell_type": "code",
      "source": [
        "plt.subplots(figsize=(17,8))\n",
        "sns.heatmap(df.corr())\n",
        "plt.show()"
      ],
      "metadata": {
        "id": "M2xVkJooIAEx",
        "colab": {
          "base_uri": "https://localhost:8080/",
          "height": 557
        },
        "outputId": "1671ec7e-7a80-40eb-fc8c-9eb064ca3a53"
      },
      "execution_count": 18,
      "outputs": [
        {
          "output_type": "display_data",
          "data": {
            "text/plain": [
              "<Figure size 1224x576 with 2 Axes>"
            ],
            "image/png": "[encoded data removed]"
          },
          "metadata": {
            "needs_background": "light"
          }
        }
      ]
    },
    {
      "cell_type": "markdown",
      "source": [
        "Consider only required columns"
      ],
      "metadata": {
        "id": "AgRLw2u3flVa"
      }
    },
    {
      "cell_type": "code",
      "source": [
        "x=df[['BattingAVG','BattingS/R','BowlingAVG','EconomyRate']]\n",
        "y=df[['ValueinCR']]"
      ],
      "metadata": {
        "id": "iqNF738t-BMK"
      },
      "execution_count": 19,
      "outputs": []
    },
    {
      "cell_type": "code",
      "source": [
        "plt.subplots(figsize=(10,5))\n",
        "sns.heatmap(x.corr())\n",
        "plt.show()"
      ],
      "metadata": {
        "id": "4do1Vx8hFs2K",
        "colab": {
          "base_uri": "https://localhost:8080/",
          "height": 324
        },
        "outputId": "4d84a58e-ffe3-4ac3-adc5-781d5b161971"
      },
      "execution_count": 20,
      "outputs": [
        {
          "output_type": "display_data",
          "data": {
            "text/plain": [
              "<Figure size 720x360 with 2 Axes>"
            ],
            "image/png": "[encoded data removed]"
          },
          "metadata": {
            "needs_background": "light"
          }
        }
      ]
    },
    {
      "cell_type": "code",
      "source": [
        "x.isna().sum()    #NULL values in each column"
      ],
      "metadata": {
        "id": "9uRh533-IKyN",
        "colab": {
          "base_uri": "https://localhost:8080/"
        },
        "outputId": "cdfc687b-3997-4068-adf9-ae9cf6b7a219"
      },
      "execution_count": 21,
      "outputs": [
        {
          "output_type": "execute_result",
          "data": {
            "text/plain": [
              "BattingAVG      92\n",
              "BattingS/R      75\n",
              "BowlingAVG     132\n",
              "EconomyRate    115\n",
              "dtype: int64"
            ]
          },
          "metadata": {},
          "execution_count": 21
        }
      ]
    },
    {
      "cell_type": "code",
      "source": [
        "x.describe()"
      ],
      "metadata": {
        "id": "U14GNh1HIO9b",
        "colab": {
          "base_uri": "https://localhost:8080/",
          "height": 300
        },
        "outputId": "a4019e73-eaf9-4f61-ec43-2597a094a8f9"
      },
      "execution_count": 22,
      "outputs": [
        {
          "output_type": "execute_result",
          "data": {
            "text/plain": [
              "       BattingAVG  BattingS/R  BowlingAVG  EconomyRate\n",
              "count  145.000000  162.000000  105.000000   122.000000\n",
              "mean    17.988207  102.443765   34.496476     8.656393\n",
              "std     11.656085   44.263851   19.152172     1.788897\n",
              "min      0.000000    0.000000    5.000000     5.000000\n",
              "25%      8.570000   75.250000   24.530000     7.680000\n",
              "50%     16.000000  117.595000   30.040000     8.290000\n",
              "75%     27.330000  133.315000   38.120000     9.105000\n",
              "max     47.430000  178.570000  153.000000    18.000000"
            ],
            "text/html": [
              "\n",
              "  <div id=\"df-d9c6d3d2-c6bb-4658-8c7c-08715bd74ee6\">\n",
              "    <div class=\"colab-df-container\">\n",
              "      <div>\n",
              "<style scoped>\n",
              "    .dataframe tbody tr th:only-of-type {\n",
              "        vertical-align: middle;\n",
              "    }\n",
              "\n",
              "    .dataframe tbody tr th {\n",
              "        vertical-align: top;\n",
              "    }\n",
              "\n",
              "    .dataframe thead th {\n",
              "        text-align: right;\n",
              "    }\n",
              "</style>\n",
              "<table border=\"1\" class=\"dataframe\">\n",
              "  <thead>\n",
              "    <tr style=\"text-align: right;\">\n",
              "      <th></th>\n",
              "      <th>BattingAVG</th>\n",
              "      <th>BattingS/R</th>\n",
              "      <th>BowlingAVG</th>\n",
              "      <th>EconomyRate</th>\n",
              "    </tr>\n",
              "  </thead>\n",
              "  <tbody>\n",
              "    <tr>\n",
              "      <th>count</th>\n",
              "      <td>145.000000</td>\n",
              "      <td>162.000000</td>\n",
              "      <td>105.000000</td>\n",
              "      <td>122.000000</td>\n",
              "    </tr>\n",
              "    <tr>\n",
              "      <th>mean</th>\n",
              "      <td>17.988207</td>\n",
              "      <td>102.443765</td>\n",
              "      <td>34.496476</td>\n",
              "      <td>8.656393</td>\n",
              "    </tr>\n",
              "    <tr>\n",
              "      <th>std</th>\n",
              "      <td>11.656085</td>\n",
              "      <td>44.263851</td>\n",
              "      <td>19.152172</td>\n",
              "      <td>1.788897</td>\n",
              "    </tr>\n",
              "    <tr>\n",
              "      <th>min</th>\n",
              "      <td>0.000000</td>\n",
              "      <td>0.000000</td>\n",
              "      <td>5.000000</td>\n",
              "      <td>5.000000</td>\n",
              "    </tr>\n",
              "    <tr>\n",
              "      <th>25%</th>\n",
              "      <td>8.570000</td>\n",
              "      <td>75.250000</td>\n",
              "      <td>24.530000</td>\n",
              "      <td>7.680000</td>\n",
              "    </tr>\n",
              "    <tr>\n",
              "      <th>50%</th>\n",
              "      <td>16.000000</td>\n",
              "      <td>117.595000</td>\n",
              "      <td>30.040000</td>\n",
              "      <td>8.290000</td>\n",
              "    </tr>\n",
              "    <tr>\n",
              "      <th>75%</th>\n",
              "      <td>27.330000</td>\n",
              "      <td>133.315000</td>\n",
              "      <td>38.120000</td>\n",
              "      <td>9.105000</td>\n",
              "    </tr>\n",
              "    <tr>\n",
              "      <th>max</th>\n",
              "      <td>47.430000</td>\n",
              "      <td>178.570000</td>\n",
              "      <td>153.000000</td>\n",
              "      <td>18.000000</td>\n",
              "    </tr>\n",
              "  </tbody>\n",
              "</table>\n",
              "</div>\n",
              "      <button class=\"colab-df-convert\" onclick=\"convertToInteractive('df-d9c6d3d2-c6bb-4658-8c7c-08715bd74ee6')\"\n",
              "              title=\"Convert this dataframe to an interactive table.\"\n",
              "              style=\"display:none;\">\n",
              "        \n",
              "  <svg xmlns=\"http://www.w3.org/2000/svg\" height=\"24px\"viewBox=\"0 0 24 24\"\n",
              "       width=\"24px\">\n",
              "    <path d=\"M0 0h24v24H0V0z\" fill=\"none\"/>\n",
              "    <path d=\"M18.56 5.44l.94 2.06.94-2.06 2.06-.94-2.06-.94-.94-2.06-.94 2.06-2.06.94zm-11 1L8.5 8.5l.94-2.06 2.06-.94-2.06-.94L8.5 2.5l-.94 2.06-2.06.94zm10 10l.94 2.06.94-2.06 2.06-.94-2.06-.94-.94-2.06-.94 2.06-2.06.94z\"/><path d=\"M17.41 7.96l-1.37-1.37c-.4-.4-.92-.59-1.43-.59-.52 0-1.04.2-1.43.59L10.3 9.45l-7.72 7.72c-.78.78-.78 2.05 0 2.83L4 21.41c.39.39.9.59 1.41.59.51 0 1.02-.2 1.41-.59l7.78-7.78 2.81-2.81c.8-.78.8-2.07 0-2.86zM5.41 20L4 18.59l7.72-7.72 1.47 1.35L5.41 20z\"/>\n",
              "  </svg>\n",
              "      </button>\n",
              "      \n",
              "  <style>\n",
              "    .colab-df-container {\n",
              "      display:flex;\n",
              "      flex-wrap:wrap;\n",
              "      gap: 12px;\n",
              "    }\n",
              "\n",
              "    .colab-df-convert {\n",
              "      background-color: #E8F0FE;\n",
              "      border: none;\n",
              "      border-radius: 50%;\n",
              "      cursor: pointer;\n",
              "      display: none;\n",
              "      fill: #1967D2;\n",
              "      height: 32px;\n",
              "      padding: 0 0 0 0;\n",
              "      width: 32px;\n",
              "    }\n",
              "\n",
              "    .colab-df-convert:hover {\n",
              "      background-color: #E2EBFA;\n",
              "      box-shadow: 0px 1px 2px rgba(60, 64, 67, 0.3), 0px 1px 3px 1px rgba(60, 64, 67, 0.15);\n",
              "      fill: #174EA6;\n",
              "    }\n",
              "\n",
              "    [theme=dark] .colab-df-convert {\n",
              "      background-color: #3B4455;\n",
              "      fill: #D2E3FC;\n",
              "    }\n",
              "\n",
              "    [theme=dark] .colab-df-convert:hover {\n",
              "      background-color: #434B5C;\n",
              "      box-shadow: 0px 1px 3px 1px rgba(0, 0, 0, 0.15);\n",
              "      filter: drop-shadow(0px 1px 2px rgba(0, 0, 0, 0.3));\n",
              "      fill: #FFFFFF;\n",
              "    }\n",
              "  </style>\n",
              "\n",
              "      <script>\n",
              "        const buttonEl =\n",
              "          document.querySelector('#df-d9c6d3d2-c6bb-4658-8c7c-08715bd74ee6 button.colab-df-convert');\n",
              "        buttonEl.style.display =\n",
              "          google.colab.kernel.accessAllowed ? 'block' : 'none';\n",
              "\n",
              "        async function convertToInteractive(key) {\n",
              "          const element = document.querySelector('#df-d9c6d3d2-c6bb-4658-8c7c-08715bd74ee6');\n",
              "          const dataTable =\n",
              "            await google.colab.kernel.invokeFunction('convertToInteractive',\n",
              "                                                     [key], {});\n",
              "          if (!dataTable) return;\n",
              "\n",
              "          const docLinkHtml = 'Like what you see? Visit the ' +\n",
              "            '<a target=\"_blank\" href=https://colab.research.google.com/notebooks/data_table.ipynb>data table notebook</a>'\n",
              "            + ' to learn more about interactive tables.';\n",
              "          element.innerHTML = '';\n",
              "          dataTable['output_type'] = 'display_data';\n",
              "          await google.colab.output.renderOutput(dataTable, element);\n",
              "          const docLink = document.createElement('div');\n",
              "          docLink.innerHTML = docLinkHtml;\n",
              "          element.appendChild(docLink);\n",
              "        }\n",
              "      </script>\n",
              "    </div>\n",
              "  </div>\n",
              "  "
            ]
          },
          "metadata": {},
          "execution_count": 22
        }
      ]
    },
    {
      "cell_type": "markdown",
      "source": [
        "Replace NULL values of a column with the mean value of the column"
      ],
      "metadata": {
        "id": "C4tg97Mif0Zk"
      }
    },
    {
      "cell_type": "code",
      "source": [
        "x['BattingAVG'].fillna(17.988207\t,inplace=True)\n",
        "x['BattingS/R'].fillna(102.443765,inplace=True)\n",
        "x['BowlingAVG'].fillna(34.496476,inplace=True)\n",
        "x['EconomyRate'].fillna(8.656393,inplace=True)"
      ],
      "metadata": {
        "id": "bRBK5-wBB-av"
      },
      "execution_count": 23,
      "outputs": []
    },
    {
      "cell_type": "code",
      "source": [
        "x.isna().sum()    #NO NULL values"
      ],
      "metadata": {
        "id": "os9PuwzxCk00",
        "colab": {
          "base_uri": "https://localhost:8080/"
        },
        "outputId": "8272a80e-d3f2-4f94-e212-32f0e6c00b2f"
      },
      "execution_count": 24,
      "outputs": [
        {
          "output_type": "execute_result",
          "data": {
            "text/plain": [
              "BattingAVG     0\n",
              "BattingS/R     0\n",
              "BowlingAVG     0\n",
              "EconomyRate    0\n",
              "dtype: int64"
            ]
          },
          "metadata": {},
          "execution_count": 24
        }
      ]
    },
    {
      "cell_type": "markdown",
      "source": [
        "Preprocessing using sklearn"
      ],
      "metadata": {
        "id": "MDQfrNk1gEkp"
      }
    },
    {
      "cell_type": "code",
      "source": [
        "from sklearn.preprocessing import MinMaxScaler\n",
        "m=MinMaxScaler()\n",
        "df_sc=m.fit_transform(x)\n",
        "df_sc_df=pd.DataFrame(df_sc,columns=x.columns,index=df.index)\n",
        "x=df_sc_df"
      ],
      "metadata": {
        "id": "L0lcsJ9t-0hL"
      },
      "execution_count": 25,
      "outputs": []
    },
    {
      "cell_type": "markdown",
      "source": [
        "select train_test_split model for spliting data into 80% for training and 20% for testing"
      ],
      "metadata": {
        "id": "cSIXbm4agMsP"
      }
    },
    {
      "cell_type": "code",
      "source": [
        "from sklearn.model_selection import train_test_split\n",
        "x_train,x_test,y_train,y_test=train_test_split(x,y,test_size=0.2,random_state=42)"
      ],
      "metadata": {
        "id": "oBYcS8Uk_Hxv"
      },
      "execution_count": 26,
      "outputs": []
    },
    {
      "cell_type": "markdown",
      "source": [
        "Floor or Ceil the values of the column \"ValueinCR\" to be non-continuous"
      ],
      "metadata": {
        "id": "YJMqKoabgf4Z"
      }
    },
    {
      "cell_type": "code",
      "source": [
        "for i in range(237):\n",
        "  y_train['ValueinCR']=np.ceil(y_train['ValueinCR'])\n",
        "  y_test['ValueinCR']=np.ceil(y_test['ValueinCR'])"
      ],
      "metadata": {
        "id": "EFKzgq5jER5s"
      },
      "execution_count": 27,
      "outputs": []
    },
    {
      "cell_type": "code",
      "source": [
        "y_train=y_train.astype(int)\n",
        "y_test=y_test.astype(int)"
      ],
      "metadata": {
        "id": "UxqLQiDkPaGM"
      },
      "execution_count": 28,
      "outputs": []
    },
    {
      "cell_type": "code",
      "source": [
        "from sklearn.metrics import accuracy_score"
      ],
      "metadata": {
        "id": "uEyWa7kaU9F4"
      },
      "execution_count": 29,
      "outputs": []
    },
    {
      "cell_type": "markdown",
      "source": [
        "Use Lists for storing accuracy of train and test for different models"
      ],
      "metadata": {
        "id": "9W7ua4nMgw1E"
      }
    },
    {
      "cell_type": "code",
      "source": [
        "index=[]\n",
        "models_test=[]\n",
        "models_train=[]"
      ],
      "metadata": {
        "id": "QI3CpMfULVyt"
      },
      "execution_count": 30,
      "outputs": []
    },
    {
      "cell_type": "code",
      "source": [
        "from sklearn.ensemble import AdaBoostClassifier\n",
        "adc=AdaBoostClassifier()\n",
        "adc.fit(x_train,y_train)\n",
        "pred_train=adc.predict(x_train)\n",
        "mtrain=accuracy_score(y_train,pred_train)*100\n",
        "print(mtrain)\n",
        "pred_test=adc.predict(x_test)\n",
        "mtest=accuracy_score(y_test,pred_test)*100\n",
        "print(mtest)\n",
        "index.append(\"AdaBoostClassifier\")\n",
        "models_train.append(mtrain)\n",
        "models_test.append(mtest)"
      ],
      "metadata": {
        "id": "bMHb6wRaTjTz",
        "colab": {
          "base_uri": "https://localhost:8080/"
        },
        "outputId": "6d797e8e-37d3-47c6-a321-458c7cc2cea1"
      },
      "execution_count": 31,
      "outputs": [
        {
          "output_type": "stream",
          "name": "stdout",
          "text": [
            "10.582010582010582\n",
            "6.25\n"
          ]
        }
      ]
    },
    {
      "cell_type": "code",
      "source": [
        "from sklearn.linear_model import LinearRegression\n",
        "lr=LinearRegression()\n",
        "lr.fit(x_train,y_train)\n",
        "pred_train=lr.predict(x_train)\n",
        "print(lr.score(x_test,y_test)*100)\n",
        "index.append(\"LinearRegression\")\n",
        "models_train.append(lr.score(x_test,y_test)*100)\n",
        "models_test.append(lr.score(x_test,y_test)*100)"
      ],
      "metadata": {
        "id": "Fqj-5jpqAEYF",
        "colab": {
          "base_uri": "https://localhost:8080/"
        },
        "outputId": "ce149c3e-4420-4d7f-8b79-7fa2e5ad1350"
      },
      "execution_count": 32,
      "outputs": [
        {
          "output_type": "stream",
          "name": "stdout",
          "text": [
            "17.2734696426991\n"
          ]
        }
      ]
    },
    {
      "cell_type": "code",
      "source": [
        "from sklearn.ensemble import RandomForestRegressor\n",
        "rf=RandomForestRegressor(n_estimators=100,random_state=42,max_depth=5,n_jobs=-1,oob_score=True)\n",
        "rf.fit(x_train,y_train)\n",
        "print(rf.oob_score_*100)\n",
        "index.append(\"RandomForestRegressor\")\n",
        "models_train.append(rf.oob_score_*100)\n",
        "models_test.append(rf.oob_score_*100)"
      ],
      "metadata": {
        "id": "lZ5GFVmKDibi",
        "colab": {
          "base_uri": "https://localhost:8080/"
        },
        "outputId": "8f4b1fbc-5fb9-4b1f-bc98-54727640f158"
      },
      "execution_count": 33,
      "outputs": [
        {
          "output_type": "stream",
          "name": "stdout",
          "text": [
            "29.575290750610705\n"
          ]
        }
      ]
    },
    {
      "cell_type": "code",
      "source": [
        "from sklearn.naive_bayes import GaussianNB\n",
        "gn=GaussianNB()\n",
        "gn.fit(x_train,y_train)\n",
        "pred_train=gn.predict(x_train)\n",
        "mtrain=accuracy_score(y_train,pred_train)*100\n",
        "print(mtrain)\n",
        "pred_test=gn.predict(x_test)\n",
        "mtest=accuracy_score(y_test,pred_test)*100\n",
        "print(mtest)\n",
        "index.append(\"GaussianNB\")\n",
        "models_train.append(mtrain)\n",
        "models_test.append(mtest)"
      ],
      "metadata": {
        "id": "XK4nW177R9rC",
        "colab": {
          "base_uri": "https://localhost:8080/"
        },
        "outputId": "73f524ed-d1fb-445c-a94e-068a31e5fd27"
      },
      "execution_count": 34,
      "outputs": [
        {
          "output_type": "stream",
          "name": "stdout",
          "text": [
            "46.03174603174603\n",
            "39.58333333333333\n"
          ]
        }
      ]
    },
    {
      "cell_type": "code",
      "source": [
        "from sklearn.tree import DecisionTreeClassifier\n",
        "dtc=DecisionTreeClassifier()\n",
        "dtc.fit(x_train,y_train)\n",
        "pred_train=dtc.predict(x_train)\n",
        "mtrain=accuracy_score(y_train,pred_train)*100\n",
        "print(mtrain)\n",
        "pred_test=dtc.predict(x_test)\n",
        "mtest=accuracy_score(y_test,pred_test)*100\n",
        "print(mtest)\n",
        "index.append(\"DecisionTreeClassifier\")\n",
        "models_train.append(mtrain)\n",
        "models_test.append(mtest)"
      ],
      "metadata": {
        "id": "0jEw5_c2S9yv",
        "colab": {
          "base_uri": "https://localhost:8080/"
        },
        "outputId": "f2598ac0-3885-42d1-841f-d086c2bbfdd2"
      },
      "execution_count": 35,
      "outputs": [
        {
          "output_type": "stream",
          "name": "stdout",
          "text": [
            "94.17989417989418\n",
            "39.58333333333333\n"
          ]
        }
      ]
    },
    {
      "cell_type": "code",
      "source": [
        "from sklearn.ensemble import ExtraTreesClassifier\n",
        "etc=ExtraTreesClassifier()\n",
        "etc.fit(x_train,y_train)\n",
        "pred_train=etc.predict(x_train)\n",
        "mtrain=accuracy_score(y_train,pred_train)*100\n",
        "print(mtrain)\n",
        "pred_test=etc.predict(x_test)\n",
        "mtest=accuracy_score(y_test,pred_test)*100\n",
        "print(mtest)\n",
        "index.append(\"ExtraTreesClassifier\")\n",
        "models_train.append(mtrain)\n",
        "models_test.append(mtest)"
      ],
      "metadata": {
        "id": "PqARFaLdTOoC",
        "colab": {
          "base_uri": "https://localhost:8080/"
        },
        "outputId": "73959817-69eb-4ea6-d551-9b60c6099360"
      },
      "execution_count": 36,
      "outputs": [
        {
          "output_type": "stream",
          "name": "stdout",
          "text": [
            "94.17989417989418\n",
            "45.83333333333333\n"
          ]
        }
      ]
    },
    {
      "cell_type": "code",
      "source": [
        "from sklearn.ensemble import GradientBoostingClassifier\n",
        "gbc=GradientBoostingClassifier()\n",
        "gbc.fit(x_train,y_train)\n",
        "pred_train=gbc.predict(x_train)\n",
        "mtrain=accuracy_score(y_train,pred_train)*100\n",
        "print(mtrain)\n",
        "pred_test=gbc.predict(x_test)\n",
        "mtest=accuracy_score(y_test,pred_test)*100\n",
        "print(mtest)\n",
        "index.append(\"GradientBoostingClassifier\")\n",
        "models_train.append(mtrain)\n",
        "models_test.append(mtest)"
      ],
      "metadata": {
        "id": "_DhvbIOMO7eL",
        "colab": {
          "base_uri": "https://localhost:8080/"
        },
        "outputId": "7e2f5782-11b1-4922-b29f-e78f65c9358c"
      },
      "execution_count": 37,
      "outputs": [
        {
          "output_type": "stream",
          "name": "stdout",
          "text": [
            "94.17989417989418\n",
            "43.75\n"
          ]
        }
      ]
    },
    {
      "cell_type": "code",
      "source": [
        "from sklearn.svm import SVC\n",
        "svc=SVC()\n",
        "svc.fit(x_train,y_train)\n",
        "pred_train=svc.predict(x_train)\n",
        "mtrain=accuracy_score(y_train,pred_train)*100\n",
        "print(mtrain)\n",
        "pred_test=svc.predict(x_test)\n",
        "mtest=accuracy_score(y_test,pred_test)*100\n",
        "print(mtest)\n",
        "index.append(\"SVC\")\n",
        "models_train.append(mtrain)\n",
        "models_test.append(mtest)"
      ],
      "metadata": {
        "id": "RCz9CX3MSunH",
        "colab": {
          "base_uri": "https://localhost:8080/"
        },
        "outputId": "63578dba-62f1-4c46-b230-b3326a25c9d5"
      },
      "execution_count": 38,
      "outputs": [
        {
          "output_type": "stream",
          "name": "stdout",
          "text": [
            "45.5026455026455\n",
            "47.91666666666667\n"
          ]
        }
      ]
    },
    {
      "cell_type": "code",
      "source": [
        "from sklearn.linear_model import LogisticRegression\n",
        "lr=LogisticRegression()\n",
        "lr.fit(x_train,y_train)\n",
        "pred_train=lr.predict(x_train)\n",
        "mtrain=accuracy_score(y_train,pred_train)*100\n",
        "print(mtrain)\n",
        "pred_test=lr.predict(x_test)\n",
        "mtest=accuracy_score(y_test,pred_test)*100\n",
        "print(mtest)\n",
        "index.append(\"LogisticRegression\")\n",
        "models_train.append(mtrain)\n",
        "models_test.append(mtest)"
      ],
      "metadata": {
        "id": "T8fw8h7LRKGh",
        "colab": {
          "base_uri": "https://localhost:8080/"
        },
        "outputId": "923c862e-c8cd-4cc9-d3f4-8a2e040d2b00"
      },
      "execution_count": 39,
      "outputs": [
        {
          "output_type": "stream",
          "name": "stdout",
          "text": [
            "41.269841269841265\n",
            "50.0\n"
          ]
        }
      ]
    },
    {
      "cell_type": "code",
      "source": [
        "from sklearn.naive_bayes import BernoulliNB\n",
        "bn=BernoulliNB()\n",
        "bn.fit(x_train,y_train)\n",
        "pred_train=bn.predict(x_train)\n",
        "mtrain=accuracy_score(y_train,pred_train)*100\n",
        "print(mtrain)\n",
        "pred_test=bn.predict(x_test)\n",
        "mtest=accuracy_score(y_test,pred_test)*100\n",
        "print(mtest)\n",
        "index.append(\"BernoulliNB\")\n",
        "models_train.append(mtrain)\n",
        "models_test.append(mtest)"
      ],
      "metadata": {
        "id": "QtrUKR6hSZcG",
        "colab": {
          "base_uri": "https://localhost:8080/"
        },
        "outputId": "e81dc0d8-6d14-4062-dc43-2a7da0adfe52"
      },
      "execution_count": 40,
      "outputs": [
        {
          "output_type": "stream",
          "name": "stdout",
          "text": [
            "41.269841269841265\n",
            "50.0\n"
          ]
        }
      ]
    },
    {
      "cell_type": "code",
      "source": [
        "from sklearn.neighbors import KNeighborsClassifier\n",
        "kn=KNeighborsClassifier(n_neighbors=8)\n",
        "kn.fit(x_train,y_train)\n",
        "pred_train=kn.predict(x_train)\n",
        "mtrain=accuracy_score(y_train,pred_train)*100\n",
        "print(mtrain)\n",
        "pred_test=kn.predict(x_test)\n",
        "mtest=accuracy_score(y_test,pred_test)*100\n",
        "print(mtest)\n",
        "index.append(\"KNeighborsClassifier\")\n",
        "models_train.append(mtrain)\n",
        "models_test.append(mtest)"
      ],
      "metadata": {
        "id": "Wiovv6QgQPF5",
        "colab": {
          "base_uri": "https://localhost:8080/"
        },
        "outputId": "c9f35875-3131-487e-bf26-1495ca2f7ab8"
      },
      "execution_count": 41,
      "outputs": [
        {
          "output_type": "stream",
          "name": "stdout",
          "text": [
            "48.67724867724868\n",
            "50.0\n"
          ]
        }
      ]
    },
    {
      "cell_type": "code",
      "source": [
        "import xgboost as xg\n",
        "from sklearn.metrics import r2_score\n",
        "xgb_r=xg.XGBRegressor(n_estimators=503,eta=0.12,max_depth=7,subsample=0.1,colsample_bytree=1,colsample_bylevel=1,alpha=0.7,num_parallel_tree=8)\n",
        "xgb_r.fit(x_train,y_train)\n",
        "ypred=xgb_r.predict(x_test)\n",
        "print(r2_score(y_test,ypred)*100)\n",
        "index.append(\"xgboost\")\n",
        "models_train.append(r2_score(y_test,ypred)*100)\n",
        "models_test.append(r2_score(y_test,ypred)*100)"
      ],
      "metadata": {
        "id": "FyyICw96_r6-",
        "colab": {
          "base_uri": "https://localhost:8080/"
        },
        "outputId": "a607d72c-29f5-4230-888b-b80655d6af09"
      },
      "execution_count": 42,
      "outputs": [
        {
          "output_type": "stream",
          "name": "stdout",
          "text": [
            "54.06143246921271\n"
          ]
        }
      ]
    },
    {
      "cell_type": "markdown",
      "source": [
        "Create a DataFrame to display accuracy of ML Algorithms in tabular format"
      ],
      "metadata": {
        "id": "DE-YT88chQog"
      }
    },
    {
      "cell_type": "code",
      "source": [
        "df=pd.DataFrame(columns=[\"ML Algorithms\",\"Train Accuracy\",\"Test Accuracy\"])\n",
        "for i in range(len(models_train)):\n",
        "  df.loc[i,\"ML Algorithms\"]=index[i]\n",
        "  df.loc[i,\"Train Accuracy\"]=round(models_train[i],2)\n",
        "  df.loc[i,\"Test Accuracy\"]=round(models_test[i],2)"
      ],
      "metadata": {
        "id": "kEJRcYfJZ8lR"
      },
      "execution_count": 43,
      "outputs": []
    },
    {
      "cell_type": "code",
      "source": [
        "df    #print the data"
      ],
      "metadata": {
        "id": "xVaUigq3he7J",
        "colab": {
          "base_uri": "https://localhost:8080/",
          "height": 425
        },
        "outputId": "b4a969d8-68e7-43a8-fd5f-f3f2905a5e07"
      },
      "execution_count": 44,
      "outputs": [
        {
          "output_type": "execute_result",
          "data": {
            "text/plain": [
              "                 ML Algorithms Train Accuracy Test Accuracy\n",
              "0           AdaBoostClassifier          10.58          6.25\n",
              "1             LinearRegression          17.27         17.27\n",
              "2        RandomForestRegressor          29.58         29.58\n",
              "3                   GaussianNB          46.03         39.58\n",
              "4       DecisionTreeClassifier          94.18         39.58\n",
              "5         ExtraTreesClassifier          94.18         45.83\n",
              "6   GradientBoostingClassifier          94.18         43.75\n",
              "7                          SVC           45.5         47.92\n",
              "8           LogisticRegression          41.27          50.0\n",
              "9                  BernoulliNB          41.27          50.0\n",
              "10        KNeighborsClassifier          48.68          50.0\n",
              "11                     xgboost          54.06         54.06"
            ],
            "text/html": [
              "\n",
              "  <div id=\"df-5deba309-3aa1-4cd2-8760-33d1ea402928\">\n",
              "    <div class=\"colab-df-container\">\n",
              "      <div>\n",
              "<style scoped>\n",
              "    .dataframe tbody tr th:only-of-type {\n",
              "        vertical-align: middle;\n",
              "    }\n",
              "\n",
              "    .dataframe tbody tr th {\n",
              "        vertical-align: top;\n",
              "    }\n",
              "\n",
              "    .dataframe thead th {\n",
              "        text-align: right;\n",
              "    }\n",
              "</style>\n",
              "<table border=\"1\" class=\"dataframe\">\n",
              "  <thead>\n",
              "    <tr style=\"text-align: right;\">\n",
              "      <th></th>\n",
              "      <th>ML Algorithms</th>\n",
              "      <th>Train Accuracy</th>\n",
              "      <th>Test Accuracy</th>\n",
              "    </tr>\n",
              "  </thead>\n",
              "  <tbody>\n",
              "    <tr>\n",
              "      <th>0</th>\n",
              "      <td>AdaBoostClassifier</td>\n",
              "      <td>10.58</td>\n",
              "      <td>6.25</td>\n",
              "    </tr>\n",
              "    <tr>\n",
              "      <th>1</th>\n",
              "      <td>LinearRegression</td>\n",
              "      <td>17.27</td>\n",
              "      <td>17.27</td>\n",
              "    </tr>\n",
              "    <tr>\n",
              "      <th>2</th>\n",
              "      <td>RandomForestRegressor</td>\n",
              "      <td>29.58</td>\n",
              "      <td>29.58</td>\n",
              "    </tr>\n",
              "    <tr>\n",
              "      <th>3</th>\n",
              "      <td>GaussianNB</td>\n",
              "      <td>46.03</td>\n",
              "      <td>39.58</td>\n",
              "    </tr>\n",
              "    <tr>\n",
              "      <th>4</th>\n",
              "      <td>DecisionTreeClassifier</td>\n",
              "      <td>94.18</td>\n",
              "      <td>39.58</td>\n",
              "    </tr>\n",
              "    <tr>\n",
              "      <th>5</th>\n",
              "      <td>ExtraTreesClassifier</td>\n",
              "      <td>94.18</td>\n",
              "      <td>45.83</td>\n",
              "    </tr>\n",
              "    <tr>\n",
              "      <th>6</th>\n",
              "      <td>GradientBoostingClassifier</td>\n",
              "      <td>94.18</td>\n",
              "      <td>43.75</td>\n",
              "    </tr>\n",
              "    <tr>\n",
              "      <th>7</th>\n",
              "      <td>SVC</td>\n",
              "      <td>45.5</td>\n",
              "      <td>47.92</td>\n",
              "    </tr>\n",
              "    <tr>\n",
              "      <th>8</th>\n",
              "      <td>LogisticRegression</td>\n",
              "      <td>41.27</td>\n",
              "      <td>50.0</td>\n",
              "    </tr>\n",
              "    <tr>\n",
              "      <th>9</th>\n",
              "      <td>BernoulliNB</td>\n",
              "      <td>41.27</td>\n",
              "      <td>50.0</td>\n",
              "    </tr>\n",
              "    <tr>\n",
              "      <th>10</th>\n",
              "      <td>KNeighborsClassifier</td>\n",
              "      <td>48.68</td>\n",
              "      <td>50.0</td>\n",
              "    </tr>\n",
              "    <tr>\n",
              "      <th>11</th>\n",
              "      <td>xgboost</td>\n",
              "      <td>54.06</td>\n",
              "      <td>54.06</td>\n",
              "    </tr>\n",
              "  </tbody>\n",
              "</table>\n",
              "</div>\n",
              "      <button class=\"colab-df-convert\" onclick=\"convertToInteractive('df-5deba309-3aa1-4cd2-8760-33d1ea402928')\"\n",
              "              title=\"Convert this dataframe to an interactive table.\"\n",
              "              style=\"display:none;\">\n",
              "        \n",
              "  <svg xmlns=\"http://www.w3.org/2000/svg\" height=\"24px\"viewBox=\"0 0 24 24\"\n",
              "       width=\"24px\">\n",
              "    <path d=\"M0 0h24v24H0V0z\" fill=\"none\"/>\n",
              "    <path d=\"M18.56 5.44l.94 2.06.94-2.06 2.06-.94-2.06-.94-.94-2.06-.94 2.06-2.06.94zm-11 1L8.5 8.5l.94-2.06 2.06-.94-2.06-.94L8.5 2.5l-.94 2.06-2.06.94zm10 10l.94 2.06.94-2.06 2.06-.94-2.06-.94-.94-2.06-.94 2.06-2.06.94z\"/><path d=\"M17.41 7.96l-1.37-1.37c-.4-.4-.92-.59-1.43-.59-.52 0-1.04.2-1.43.59L10.3 9.45l-7.72 7.72c-.78.78-.78 2.05 0 2.83L4 21.41c.39.39.9.59 1.41.59.51 0 1.02-.2 1.41-.59l7.78-7.78 2.81-2.81c.8-.78.8-2.07 0-2.86zM5.41 20L4 18.59l7.72-7.72 1.47 1.35L5.41 20z\"/>\n",
              "  </svg>\n",
              "      </button>\n",
              "      \n",
              "  <style>\n",
              "    .colab-df-container {\n",
              "      display:flex;\n",
              "      flex-wrap:wrap;\n",
              "      gap: 12px;\n",
              "    }\n",
              "\n",
              "    .colab-df-convert {\n",
              "      background-color: #E8F0FE;\n",
              "      border: none;\n",
              "      border-radius: 50%;\n",
              "      cursor: pointer;\n",
              "      display: none;\n",
              "      fill: #1967D2;\n",
              "      height: 32px;\n",
              "      padding: 0 0 0 0;\n",
              "      width: 32px;\n",
              "    }\n",
              "\n",
              "    .colab-df-convert:hover {\n",
              "      background-color: #E2EBFA;\n",
              "      box-shadow: 0px 1px 2px rgba(60, 64, 67, 0.3), 0px 1px 3px 1px rgba(60, 64, 67, 0.15);\n",
              "      fill: #174EA6;\n",
              "    }\n",
              "\n",
              "    [theme=dark] .colab-df-convert {\n",
              "      background-color: #3B4455;\n",
              "      fill: #D2E3FC;\n",
              "    }\n",
              "\n",
              "    [theme=dark] .colab-df-convert:hover {\n",
              "      background-color: #434B5C;\n",
              "      box-shadow: 0px 1px 3px 1px rgba(0, 0, 0, 0.15);\n",
              "      filter: drop-shadow(0px 1px 2px rgba(0, 0, 0, 0.3));\n",
              "      fill: #FFFFFF;\n",
              "    }\n",
              "  </style>\n",
              "\n",
              "      <script>\n",
              "        const buttonEl =\n",
              "          document.querySelector('#df-5deba309-3aa1-4cd2-8760-33d1ea402928 button.colab-df-convert');\n",
              "        buttonEl.style.display =\n",
              "          google.colab.kernel.accessAllowed ? 'block' : 'none';\n",
              "\n",
              "        async function convertToInteractive(key) {\n",
              "          const element = document.querySelector('#df-5deba309-3aa1-4cd2-8760-33d1ea402928');\n",
              "          const dataTable =\n",
              "            await google.colab.kernel.invokeFunction('convertToInteractive',\n",
              "                                                     [key], {});\n",
              "          if (!dataTable) return;\n",
              "\n",
              "          const docLinkHtml = 'Like what you see? Visit the ' +\n",
              "            '<a target=\"_blank\" href=https://colab.research.google.com/notebooks/data_table.ipynb>data table notebook</a>'\n",
              "            + ' to learn more about interactive tables.';\n",
              "          element.innerHTML = '';\n",
              "          dataTable['output_type'] = 'display_data';\n",
              "          await google.colab.output.renderOutput(dataTable, element);\n",
              "          const docLink = document.createElement('div');\n",
              "          docLink.innerHTML = docLinkHtml;\n",
              "          element.appendChild(docLink);\n",
              "        }\n",
              "      </script>\n",
              "    </div>\n",
              "  </div>\n",
              "  "
            ]
          },
          "metadata": {},
          "execution_count": 44
        }
      ]
    },
    {
      "cell_type": "markdown",
      "source": [
        "Plot the graphs to understand the training and testing accuracy of different ML Algorithm and find an algorithm best suits for given data"
      ],
      "metadata": {
        "id": "DTkvD3TOhn31"
      }
    },
    {
      "cell_type": "code",
      "source": [
        "plt.subplots(figsize=(13,5))\n",
        "sns.barplot(x=\"ML Algorithms\", y=\"Train Accuracy\",data=df)\n",
        "plt.xticks(rotation=90)\n",
        "plt.title('MLA Train Accuracy Comparison')\n",
        "plt.show()"
      ],
      "metadata": {
        "id": "PISLJU6HXftB",
        "colab": {
          "base_uri": "https://localhost:8080/",
          "height": 473
        },
        "outputId": "50d4617e-1958-4ed7-b337-3a923cd7381c"
      },
      "execution_count": 45,
      "outputs": [
        {
          "output_type": "display_data",
          "data": {
            "text/plain": [
              "<Figure size 936x360 with 1 Axes>"
            ],
            "image/png": "[encoded data removed]"
          },
          "metadata": {
            "needs_background": "light"
          }
        }
      ]
    },
    {
      "cell_type": "code",
      "source": [
        "plt.subplots(figsize=(13,5))\n",
        "sns.barplot(x=\"ML Algorithms\", y=\"Test Accuracy\",data=df)\n",
        "plt.xticks(rotation=90)\n",
        "plt.title('MLA Test Accuracy Comparison')\n",
        "plt.show()"
      ],
      "metadata": {
        "id": "k46csGJ9boFP",
        "colab": {
          "base_uri": "https://localhost:8080/",
          "height": 473
        },
        "outputId": "08457d75-1acd-46f8-f0e1-490fd2b075a2"
      },
      "execution_count": 46,
      "outputs": [
        {
          "output_type": "display_data",
          "data": {
            "text/plain": [
              "<Figure size 936x360 with 1 Axes>"
            ],
            "image/png": "[encoded data removed]"
          },
          "metadata": {
            "needs_background": "light"
          }
        }
      ]
    },
    {
      "cell_type": "code",
      "source": [],
      "metadata": {
        "id": "CjEcQLsgmcSb"
      },
      "execution_count": 46,
      "outputs": []
    }
  ]
}